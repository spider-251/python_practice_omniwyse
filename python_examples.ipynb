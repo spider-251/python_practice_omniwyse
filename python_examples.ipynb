{
 "cells": [
  {
   "cell_type": "markdown",
   "metadata": {},
   "source": [
    "Basic Syntax"
   ]
  },
  {
   "cell_type": "code",
   "execution_count": null,
   "metadata": {},
   "outputs": [],
   "source": [
    "#single line comment\n",
    "\n",
    "#type\n",
    "#of\n",
    "#multi\n",
    "#line\n",
    "#comments\n",
    "\n",
    "\"\"\" type \n",
    "        multi\n",
    "            line \n",
    "                comments\n",
    "                        or  \n",
    "                            docstring\n",
    "                                    comment \"\"\""
   ]
  },
  {
   "cell_type": "code",
   "execution_count": 4,
   "metadata": {},
   "outputs": [
    {
     "name": "stdout",
     "output_type": "stream",
     "text": [
      "[1, 2, 3, 4, 5]\n"
     ]
    }
   ],
   "source": [
    "#example for multiline statements\n",
    "my_list = [1, \\\n",
    "            2, 3\\\n",
    "            ,4,5 \\\n",
    "        ]\n",
    "print(my_list)"
   ]
  },
  {
   "cell_type": "markdown",
   "metadata": {},
   "source": [
    "Variables"
   ]
  },
  {
   "cell_type": "code",
   "execution_count": 1,
   "metadata": {},
   "outputs": [
    {
     "name": "stdout",
     "output_type": "stream",
     "text": [
      "<class 'list'>\n",
      "<class 'tuple'>\n",
      "<class 'dict'>\n",
      "{'hello', 'are', 'how'}\n"
     ]
    }
   ],
   "source": [
    "#example for list\n",
    "ex_list = ['india', 12, 1.56, ('one','two')]\n",
    "print(type(ex_list))\n",
    "\n",
    "#example for tuple\n",
    "ex_tuple=('india', 12, 1.56, ('one','two'))\n",
    "print(type(ex_tuple))\n",
    "\n",
    "#example for dictionary\n",
    "ex_dict = {'india':12, 15:1.56, 'num':('one','two')}\n",
    "print(type(ex_dict))\n",
    "\n",
    "#example for set\n",
    "ex_set = {'hello', 'how', 'are', 'are', 'hello'}\n",
    "print(ex_set)"
   ]
  },
  {
   "cell_type": "code",
   "execution_count": 2,
   "metadata": {},
   "outputs": [
    {
     "name": "stdout",
     "output_type": "stream",
     "text": [
      "<class 'str'>\n",
      "<class 'tuple'>\n",
      "<class 'list'>\n",
      "{'r', 'i', 'g'}\n"
     ]
    }
   ],
   "source": [
    "#example of type conversion\n",
    "name = 'giri'\n",
    "print(type(name))\n",
    "\n",
    "#converting string into tuple\n",
    "con_tuple = tuple(name)\n",
    "print(type(con_tuple))\n",
    "\n",
    "#converting string into list\n",
    "con_list = list(name)\n",
    "print(type(con_list))\n",
    "\n",
    "#converting string into set\n",
    "con_set = set(name)\n",
    "print(con_set)"
   ]
  },
  {
   "cell_type": "markdown",
   "metadata": {},
   "source": [
    "Control Structures"
   ]
  },
  {
   "cell_type": "code",
   "execution_count": 32,
   "metadata": {},
   "outputs": [
    {
     "name": "stdout",
     "output_type": "stream",
     "text": [
      "Hello to you too!\n"
     ]
    }
   ],
   "source": [
    "#example for match case\n",
    "command = 'Hello, World!' \n",
    "match command: \n",
    "    case 'Hello, World!': \n",
    "        print('Hello to you too!') \n",
    "    case 'Goodbye, World!': \n",
    "        print('See you later') \n",
    "    case other: \n",
    "        print('No match found') "
   ]
  },
  {
   "cell_type": "code",
   "execution_count": 141,
   "metadata": {},
   "outputs": [
    {
     "name": "stdout",
     "output_type": "stream",
     "text": [
      "yes\n"
     ]
    }
   ],
   "source": [
    "#example for if-else statements\n",
    "num = [1,2,3,4,5]\n",
    "if 2 in num:\n",
    "    print('yes')\n",
    "elif 6 in num:\n",
    "    print('overboard')\n",
    "else:\n",
    "    print('no')"
   ]
  },
  {
   "cell_type": "markdown",
   "metadata": {},
   "source": [
    "Loops"
   ]
  },
  {
   "cell_type": "code",
   "execution_count": 33,
   "metadata": {},
   "outputs": [
    {
     "name": "stdout",
     "output_type": "stream",
     "text": [
      "Hello world!\n",
      "Hello world!\n",
      "Hello world!\n"
     ]
    }
   ],
   "source": [
    "#example of while loop\n",
    "count = 0\n",
    "while (count < 3):\n",
    "    count = count + 1\n",
    "    print(\"Hello world!\")"
   ]
  },
  {
   "cell_type": "code",
   "execution_count": 40,
   "metadata": {},
   "outputs": [
    {
     "name": "stdout",
     "output_type": "stream",
     "text": [
      "1\n",
      "3\n"
     ]
    }
   ],
   "source": [
    "#example of for loop and loop control statements \n",
    "for i in range(1,11):\n",
    "    if i%2==0:\n",
    "        continue\n",
    "    elif i%5==0:\n",
    "        break\n",
    "    else:\n",
    "        pass\n",
    "    print(i)"
   ]
  },
  {
   "cell_type": "markdown",
   "metadata": {},
   "source": [
    "Operators"
   ]
  },
  {
   "cell_type": "code",
   "execution_count": 138,
   "metadata": {},
   "outputs": [
    {
     "name": "stdout",
     "output_type": "stream",
     "text": [
      "the addition of a and b is:  30\n",
      "the subtraction of a and b is:  -10\n",
      "the multiplication of a and b is:  200\n",
      "the modulus of a and b is:  10\n",
      "the division of a and b is:  0.5\n",
      "the floor division of a and b is:  0\n"
     ]
    }
   ],
   "source": [
    "#example for arithmetic operators\n",
    "a = int(input())\n",
    "b = int(input())\n",
    "\n",
    "#addition operator\n",
    "print(\"the addition of a and b is: \", a+b)\n",
    "\n",
    "#subtraction operator\n",
    "print(\"the subtraction of a and b is: \", a-b)\n",
    "\n",
    "#multiplication operator\n",
    "print(\"the multiplication of a and b is: \", a*b)\n",
    "\n",
    "#modulus operator\n",
    "print(\"the modulus of a and b is: \", a%b)\n",
    "\n",
    "#division operator\n",
    "print(\"the division of a and b is: \", a/b)\n",
    "\n",
    "#floor division operator\n",
    "print(\"the floor division of a and b is: \", a//b)\n"
   ]
  },
  {
   "cell_type": "markdown",
   "metadata": {},
   "source": [
    "comparison operators"
   ]
  },
  {
   "cell_type": "code",
   "execution_count": 139,
   "metadata": {},
   "outputs": [
    {
     "name": "stdout",
     "output_type": "stream",
     "text": [
      "a is less than b\n"
     ]
    }
   ],
   "source": [
    "if a>b:\n",
    "    print(\"a is greater than b\")                            #example of greater than operator\n",
    "elif a>=b:    \n",
    "    print(\"a is greater than or equals to b\")               #example of greater than or equals to operator\n",
    "elif a<b:\n",
    "    print(\"a is less than b\")                               #example of less than operator\n",
    "elif a<=b:\n",
    "    print(\"a is less than or equals to b\")                  #example of less than or equals to operator\n",
    "elif a == b:\n",
    "    print(\"a is equals to b\")                               #example of equals to operator\n",
    "elif a != b:\n",
    "    print(\"a is not equals to b\")                           #example of not equals to operator"
   ]
  },
  {
   "cell_type": "markdown",
   "metadata": {},
   "source": [
    "logical operator"
   ]
  },
  {
   "cell_type": "code",
   "execution_count": 140,
   "metadata": {},
   "outputs": [
    {
     "name": "stdout",
     "output_type": "stream",
     "text": [
      "example of and operator\n"
     ]
    }
   ],
   "source": [
    "if a>5 and b >10:\n",
    "    print(\"example of and operator\")                        #example of and logical operator\n",
    "elif a<5 or b > 10:\n",
    "    print(\"example of or operator\")                         #example of or logical operator\n",
    "elif not(a>5 and b >10):\n",
    "    print(\"example of not operator\")                        #example of not logical operator"
   ]
  },
  {
   "cell_type": "markdown",
   "metadata": {},
   "source": [
    "Number type conversions"
   ]
  },
  {
   "cell_type": "code",
   "execution_count": 59,
   "metadata": {},
   "outputs": [
    {
     "name": "stdout",
     "output_type": "stream",
     "text": [
      "10\n",
      "<class 'str'>\n",
      "10.0\n",
      "<class 'float'>\n",
      "10\n",
      "<class 'int'>\n",
      "10\n",
      "<class 'int'>\n"
     ]
    }
   ],
   "source": [
    "a = 10\n",
    "type(a)\n",
    "\n",
    "#int to str conversion\n",
    "i = str(a)\n",
    "print(i)\n",
    "print(type(i))\n",
    "\n",
    "#int to float conversion\n",
    "f = float(a)\n",
    "print(f)\n",
    "print(type(f))\n",
    "\n",
    "#str to int conversion \n",
    "s = int(i)\n",
    "print(s)\n",
    "print(type(s))\n",
    "\n",
    "#float to int conversion\n",
    "n = int(f)\n",
    "print(n)\n",
    "print(type(n))"
   ]
  },
  {
   "cell_type": "markdown",
   "metadata": {},
   "source": [
    "mathematical functions"
   ]
  },
  {
   "cell_type": "code",
   "execution_count": 64,
   "metadata": {},
   "outputs": [
    {
     "name": "stdout",
     "output_type": "stream",
     "text": [
      "3.141592653589793\n",
      "6.283185307179586\n",
      "inf\n"
     ]
    }
   ],
   "source": [
    "import math\n",
    "\n",
    "#math pi function\n",
    "print(math.pi)          \n",
    "\n",
    "#math tau function\n",
    "print(math.tau)         \n",
    "\n",
    "#math inf function\n",
    "print(math.inf)         "
   ]
  },
  {
   "cell_type": "code",
   "execution_count": 66,
   "metadata": {},
   "outputs": [
    {
     "name": "stdout",
     "output_type": "stream",
     "text": [
      "The Floor and Ceiling value of 23.56 are: 24, 23\n",
      "The value of x after copying the sign from y is: -10.0\n",
      "Absolute value of -96 and 56 are: 96.0, 56.0\n",
      "Sum of the elements of the list: 42.13999999999999\n",
      "The GCD of 24 and 56 : 8\n",
      "It is not a number\n",
      "It is Infinity\n",
      "False\n",
      "True\n"
     ]
    }
   ],
   "source": [
    "import math\n",
    "\n",
    "print('The Floor and Ceiling value of 23.56 are: ' + str(math.ceil(23.56)) + ', ' + str(math.floor(23.56)))\n",
    "\n",
    "x = 10\n",
    "y = -15\n",
    "\n",
    "print('The value of x after copying the sign from y is: ' + str(math.copysign(x, y)))\n",
    "\n",
    "print('Absolute value of -96 and 56 are: ' + str(math.fabs(-96)) + ', ' + str(math.fabs(56)))\n",
    "\n",
    "my_list = [12, 4.25, 89, 3.02, -65.23, -7.2, 6.3]\n",
    "\n",
    "print('Sum of the elements of the list: ' + str(math.fsum(my_list)))\n",
    "\n",
    "print('The GCD of 24 and 56 : ' + str(math.gcd(24, 56)))\n",
    "\n",
    "x = float('nan')\n",
    "if math.isnan(x):\n",
    "    print('It is not a number')\n",
    "\n",
    "x = float('inf')\n",
    "y = 45\n",
    "\n",
    "if math.isinf(x):\n",
    "    print('It is Infinity')\n",
    "\n",
    "print(math.isfinite(x)) #x is not a finite number\n",
    "\n",
    "print(math.isfinite(y)) #y is a finite number"
   ]
  },
  {
   "cell_type": "code",
   "execution_count": 69,
   "metadata": {},
   "outputs": [
    {
     "name": "stdout",
     "output_type": "stream",
     "text": [
      "The value of 5**8: 390625.0\n",
      "Square root of 400: 20.0\n",
      "The value of 5**e: 148.4131591025766\n",
      "The value of Log(625), base 5: 4.0\n",
      "The value of Log(1024), base 2: 10.0\n",
      "The value of Log(1024), base 10: 3.010299956639812\n"
     ]
    }
   ],
   "source": [
    "import math\n",
    "\n",
    "#math power function\n",
    "print('The value of 5**8: ' + str(math.pow(5, 8)))                              \n",
    "\n",
    "#math squareroot function\n",
    "print('Square root of 400: ' + str(math.sqrt(400)))                             \n",
    "\n",
    "#math exponent function\n",
    "print('The value of 5**e: ' + str(math.exp(5)))                                 \n",
    "\n",
    "#math log function\n",
    "print('The value of Log(625), base 5: ' + str(math.log(625, 5)))                \n",
    "\n",
    "#math log2 function\n",
    "print('The value of Log(1024), base 2: ' + str(math.log2(1024)))                \n",
    "\n",
    "#math log10 function\n",
    "print('The value of Log(1024), base 10: ' + str(math.log10(1024)))              "
   ]
  },
  {
   "cell_type": "code",
   "execution_count": 70,
   "metadata": {},
   "outputs": [
    {
     "name": "stdout",
     "output_type": "stream",
     "text": [
      "The value of Sin(60 degree): 0.8660254037844386\n",
      "The value of cos(pi): -1.0\n",
      "The value of tan(90 degree): 1.633123935319537e+16\n",
      "The angle of sin(0.8660254037844386): 59.99999999999999\n"
     ]
    }
   ],
   "source": [
    "import math\n",
    "\n",
    "#math sin and radians function\n",
    "print('The value of Sin(60 degree): ' + str(math.sin(math.radians(60))))                    \n",
    "\n",
    "#math cos function\n",
    "print('The value of cos(pi): ' + str(math.cos(math.pi)))                                    \n",
    "\n",
    "#math tan function\n",
    "print('The value of tan(90 degree): ' + str(math.tan(math.pi/2)))                           \n",
    "\n",
    "#math degrees function\n",
    "print('The angle of sin(0.8660254037844386): ' + str(math.degrees(math.asin(0.8660254037844386))))  "
   ]
  },
  {
   "cell_type": "markdown",
   "metadata": {},
   "source": [
    "random numbers"
   ]
  },
  {
   "cell_type": "code",
   "execution_count": 71,
   "metadata": {},
   "outputs": [
    {
     "name": "stdout",
     "output_type": "stream",
     "text": [
      "3\n",
      "t\n"
     ]
    }
   ],
   "source": [
    "# import random\n",
    "import random\n",
    "\n",
    "# prints a random value from the list\n",
    "list1 = [1, 2, 3, 4, 5, 6]\n",
    "print(random.choice(list1))\n",
    "\n",
    "# prints a random item from the string\n",
    "string = \"striver\"\n",
    "print(random.choice(string))"
   ]
  },
  {
   "cell_type": "code",
   "execution_count": 76,
   "metadata": {},
   "outputs": [
    {
     "name": "stdout",
     "output_type": "stream",
     "text": [
      "A random number from list is : 4\n",
      "A random number from range is : 30\n"
     ]
    }
   ],
   "source": [
    "import random\n",
    " \n",
    "# using choice() to generate a random number from a\n",
    "# given list of numbers.\n",
    "print(\"A random number from list is : \", end=\"\")\n",
    "print(random.choice([1, 4, 8, 10, 3]))\n",
    " \n",
    "# using randrange() to generate in range from 20\n",
    "# to 50. The last parameter 3 is step size to skip\n",
    "# three numbers when selecting.\n",
    "print(\"A random number from range is : \", end=\"\")\n",
    "print(random.randrange(20, 50))"
   ]
  },
  {
   "cell_type": "markdown",
   "metadata": {},
   "source": [
    "substring"
   ]
  },
  {
   "cell_type": "code",
   "execution_count": 78,
   "metadata": {},
   "outputs": [
    {
     "name": "stdout",
     "output_type": "stream",
     "text": [
      "omniw\n",
      "niwy\n",
      "e\n",
      "iwyse\n",
      "mni\n",
      "onws\n"
     ]
    }
   ],
   "source": [
    "string = \"omniwyse\"\n",
    "\n",
    "#to get the first 5 characters of a string\n",
    "print(string[0:5])      \n",
    "\n",
    "#to get a substring 4 characters long, starting from the 3rd character of the string\n",
    "print(string[2:6])      \n",
    "\n",
    "#to get the last character of the string\n",
    "print(string[-1])       \n",
    "\n",
    "#to get the last 5 characters of a string\n",
    "print(string[-5:])      \n",
    "\n",
    "#to get a substring which contains all characters except the last 4 characters and the 1st character\n",
    "print(string[1:-4])     \n",
    "\n",
    "#to get every other character from a string\n",
    "print(string[::2])      "
   ]
  },
  {
   "cell_type": "markdown",
   "metadata": {},
   "source": [
    "Escape Characters"
   ]
  },
  {
   "cell_type": "code",
   "execution_count": 80,
   "metadata": {},
   "outputs": [
    {
     "name": "stdout",
     "output_type": "stream",
     "text": [
      "Hello\n",
      "World!\n",
      "It's alright.\n",
      "This will insert one \\ (backslash).\n",
      "Hello\tWorld!\n",
      "HelloWorld!\n"
     ]
    }
   ],
   "source": [
    "#it creates new line\n",
    "txt1 = \"Hello\\nWorld!\"\n",
    "print(txt1)                                                 \n",
    "\n",
    "#it escapes quote\n",
    "txt2 = 'It\\'s alright.'\n",
    "print(txt2)                                                 \n",
    "\n",
    "#it escapes backslash\n",
    "txt3 = \"This will insert one \\\\ (backslash).\"               \n",
    "print(txt3)                                                 \n",
    "\n",
    "#it adds tab\n",
    "txt4 = \"Hello\\tWorld!\"\n",
    "print(txt4)                                                 \n",
    "\n",
    "#it removes the space or backspaces\n",
    "txt5 = \"Hello \\bWorld!\"\n",
    "print(txt5)                                                 "
   ]
  },
  {
   "cell_type": "markdown",
   "metadata": {},
   "source": [
    "string special operators "
   ]
  },
  {
   "cell_type": "code",
   "execution_count": 85,
   "metadata": {},
   "outputs": [
    {
     "name": "stdout",
     "output_type": "stream",
     "text": [
      "hello world\n",
      "hellohello\n",
      "l\n",
      "True\n",
      "False\n"
     ]
    }
   ],
   "source": [
    "a  = \"hello\"\n",
    "b = \"world\"\n",
    "\n",
    "#concantetion of strings\n",
    "print(a+\" \"+b)                      \n",
    "\n",
    "#repeats the strings mentioned times\n",
    "print(a*2)                          \n",
    "\n",
    "#gives the charachter from the given index\n",
    "print(a[3])                          \n",
    "\n",
    "#returns true if the charachter exists in the string\n",
    "if \"h\" in a:\n",
    "    print(True)\n",
    "else:                               \n",
    "    print(False)\n",
    "\n",
    "#returns true if the charachter not exists in the string\n",
    "if \"o\" not in a:\n",
    "    print(True)\n",
    "else:                               \n",
    "    print(False)"
   ]
  },
  {
   "cell_type": "markdown",
   "metadata": {},
   "source": [
    "String formatting"
   ]
  },
  {
   "cell_type": "code",
   "execution_count": 87,
   "metadata": {},
   "outputs": [
    {
     "name": "stdout",
     "output_type": "stream",
     "text": [
      "The price is 49 dollars\n",
      "The price is 49.00 dollars\n",
      "I want 3 pieces of item number 567 for 49.00 dollars.\n",
      "His name is John. John is 36 years old.\n",
      "I have a Ford, it is a Mustang.\n"
     ]
    }
   ],
   "source": [
    "price = 49\n",
    "txt1 = \"The price is {} dollars\"     #formatting with placeholder\n",
    "txt2 = \"The price is {:.2f} dollars\" #formatting with 2 decimals after point\n",
    "print(txt1.format(price))\n",
    "print(txt2.format(price))\n",
    "\n",
    "\n",
    "#you can also format without the index numbers\n",
    "quantity = 3\n",
    "itemno = 567\n",
    "price = 49\n",
    "order1 = \"I want {0} pieces of item number {1} for {2:.2f} dollars.\"   #formatting the multiple strings with the index values\n",
    "print(order1.format(quantity, itemno, price))\n",
    "\n",
    "#to refer to the same value more than once, using the index number\n",
    "age = 36\n",
    "name = \"John\"\n",
    "txt = \"His name is {1}. {1} is {0} years old.\"                         \n",
    "print(txt.format(age, name))\n",
    "\n",
    "#formatting using named indexes\n",
    "cars = \"I have a {carname}, it is a {model}.\"\n",
    "print(cars.format(carname = \"Ford\", model = \"Mustang\"))                 "
   ]
  },
  {
   "cell_type": "markdown",
   "metadata": {},
   "source": [
    "Bultin string methods "
   ]
  },
  {
   "cell_type": "code",
   "execution_count": 98,
   "metadata": {},
   "outputs": [
    {
     "name": "stdout",
     "output_type": "stream",
     "text": [
      "converted to uppercase: OMNIWYSE TECHNOLOGIES\n",
      "converted to lowercase: omniwyse technologies\n",
      "converted to title case: Omniwyse Technologies\n",
      "same original text: OmniWyse TechNologies\n",
      "converted to capitalize: Omniwyse technologies\n",
      "count of substring: 2\n",
      "it ends with this character:  True\n"
     ]
    }
   ],
   "source": [
    "text = 'OmniWyse TechNologies'\n",
    "\n",
    "# upper() function to convert\n",
    "# string to upper case\n",
    "print(\"converted to uppercase:\",text.upper())\n",
    "\n",
    "# lower() function to convert\n",
    "# string to lower case\n",
    "print(\"converted to lowercase:\",text.lower())\n",
    "\n",
    "# converts the first character to\n",
    "# upper case and rest to lower case\n",
    "print(\"converted to title case:\",text.title())\n",
    "\n",
    "# original string never changes\n",
    "print(\"same original text:\", text)\n",
    "\n",
    "#only first letter is capitalized\n",
    "print(\"converted to capitalize:\", text.capitalize())\n",
    "\n",
    "#return the occuerence of substring\n",
    "print(\"count of substring:\", text.count('o'))\n",
    "\n",
    "#return true if endswith() something defined\n",
    "print('it ends with this character: ', text.endswith('gies'))\n"
   ]
  },
  {
   "cell_type": "code",
   "execution_count": 111,
   "metadata": {},
   "outputs": [
    {
     "name": "stdout",
     "output_type": "stream",
     "text": [
      "14\n",
      "11\n",
      "False\n",
      "False\n",
      "False\n",
      "False\n",
      "False\n",
      "False\n",
      "False\n",
      "True\n",
      "False\n",
      "False\n",
      "False\n",
      "pOmniWyse TechNologiesvOmniWyse TechNologiestOmniWyse TechNologies OmniWyse TechNologieslOmniWyse TechNologiestOmniWyse TechNologiesd\n",
      "omniwyse technologies\n",
      "OmniWyse TechNologies\n",
      "OmniWyse TechNiligies\n",
      "18\n",
      "True\n",
      "OmniWyse TechNologies\n",
      "oMNIwYSE tECHnOLOGIES\n"
     ]
    }
   ],
   "source": [
    "#Returns the lowest index of the substring if it is found\n",
    "print(text.find('o'))\t        \n",
    "\n",
    "#Returns the position of the first occurrence of a substring in a string\n",
    "print(text.index('c'))\t        \n",
    "\n",
    "#Checks whether all the characters in a given string is alphanumeric or not\n",
    "print(text.isalnum())\t        \n",
    "\n",
    "#Returns “True” if all characters in the string are alphabets\n",
    "print(text.isalpha())\t        \n",
    "\n",
    "#Returns true if all characters in a string are decimal\n",
    "print(text.isdecimal())\t        \n",
    "\n",
    "#Returns “True” if all characters in the string are digits\n",
    "print(text.isdigit())\t        \n",
    "\n",
    "#Check whether a string is a valid identifier or not\n",
    "print(text.isidentifier())\t    \n",
    "\n",
    "#Checks if all characters in the string are lowercase\n",
    "print(text.islower())\t        \n",
    "\n",
    "#Returns “True” if all characters in the string are numeric characters\n",
    "print(text.isnumeric())\t        \n",
    "\n",
    "#Returns “True” if all characters in the string are printable or the string is empty\n",
    "print(text.isprintable())\t    \n",
    "\n",
    "#Returns “True” if all characters in the string are whitespace characters\n",
    "print(text.isspace())\t        \n",
    "\n",
    "#Returns “True” if the string is a title cased string\n",
    "print(text.istitle())\t        \n",
    "\n",
    "#Checks if all characters in the string are uppercase\n",
    "print(text.isupper())\t        \n",
    "\n",
    "#Returns a concatenated String\n",
    "print(text.join(\"pvt ltd\"))\t    \n",
    "\n",
    "#Converts all uppercase characters in a string into lowercase\n",
    "print(text.lower())\t            \n",
    "\n",
    "#Returns the string with leading characters removed\n",
    "print(text.lstrip())\t        \n",
    "\n",
    "#Replaces all occurrences of a substring with another substring\n",
    "print(text.replace('o', 'i'))\t\n",
    "\n",
    "#Returns the highest index of the substring inside the string\n",
    "print(text.rindex('i'))\t        \n",
    "\n",
    "#Returns “True” if a string starts with the given prefix\n",
    "print(text.startswith('O'))\t    \n",
    "\n",
    "#Returns the string with both leading and trailing characters\n",
    "print(text.strip())\t            \n",
    "\n",
    "#Converts all uppercase characters to lowercase and vice versa\n",
    "print(text.swapcase())\t        \n"
   ]
  },
  {
   "cell_type": "markdown",
   "metadata": {},
   "source": [
    "Lists"
   ]
  },
  {
   "cell_type": "code",
   "execution_count": 113,
   "metadata": {},
   "outputs": [
    {
     "name": "stdout",
     "output_type": "stream",
     "text": [
      "banana\n",
      "mango\n",
      "['cherry', 'orange', 'kiwi']\n",
      "['apple', 'banana', 'cherry', 'orange']\n",
      "['cherry', 'orange', 'kiwi', 'melon', 'mango']\n",
      "['orange', 'kiwi', 'melon']\n"
     ]
    }
   ],
   "source": [
    "thislist = [\"apple\", \"banana\", \"cherry\", \"orange\", \"kiwi\", \"melon\", \"mango\"]\n",
    "\n",
    "#Prints the second item of the list\n",
    "print(thislist[1])\n",
    "\n",
    "#prints the last item\n",
    "print(thislist[-1])             \n",
    "\n",
    "#prints item from index 2 - 5\n",
    "print(thislist[2:5])            \n",
    "\n",
    "#prints items upto index 4\n",
    "print(thislist[:4])             \n",
    "\n",
    "#prints items from 2\n",
    "print(thislist[2:]) \n",
    "\n",
    "#prints items from -4 or -1\n",
    "print(thislist[-4:-1])          "
   ]
  },
  {
   "cell_type": "code",
   "execution_count": 137,
   "metadata": {},
   "outputs": [
    {
     "name": "stdout",
     "output_type": "stream",
     "text": [
      "[1, 2, 3, 4]\n",
      "[1, 2, 3, 4, 5]\n",
      "[1, 2, 3, 4, 5, 5, 6, 7]\n",
      "[1, 2, 30, 3, 4, 5, 5, 6, 7]\n",
      "[1, 2, 30, 3, 5, 5, 6, 7]\n",
      "[1, 2, 3, 5, 5, 6, 7]\n",
      "[2, 3, 5, 5, 6, 7]\n",
      "[2, 3, 5, 6, 7]\n",
      "[3, 5, 6, 7]\n",
      "4\n",
      "21\n",
      "[]\n"
     ]
    }
   ],
   "source": [
    "a_list = [1, 2, 3, 4]\n",
    "print(a_list)\n",
    "\n",
    "#adds number to the list at last position\n",
    "a_list.append(5)            \n",
    "print(a_list)\n",
    "\n",
    "#extends the list with new lists\n",
    "a_list.extend([5, 6, 7])\n",
    "print(a_list)               \n",
    "\n",
    "#inserts 30 at index 2\n",
    "a_list.insert(2, 30)\n",
    "print(a_list)               \n",
    "\n",
    "#removes 4 from the list\n",
    "a_list.remove(4)\n",
    "print(a_list)               \n",
    "\n",
    "#removed the max element from the list\n",
    "a_list.remove(max(a_list))  \n",
    "print(a_list)\n",
    "\n",
    "#removed the min element from the list\n",
    "a_list.remove(min(a_list))  \n",
    "print(a_list)\n",
    "\n",
    "#removed the 2nd element from list\n",
    "a_list.pop(2)\n",
    "print(a_list)                \n",
    "\n",
    "#removes first element from list\n",
    "del a_list[0]                \n",
    "print(a_list)\n",
    "\n",
    "#prints length of the list\n",
    "print(len(a_list))           \n",
    "\n",
    "#return the sum of all elements in the list\n",
    "print(sum(a_list))          \n",
    "\n",
    "#clears all the elemets from list\n",
    "a_list.clear()\n",
    "print(a_list)               "
   ]
  },
  {
   "cell_type": "code",
   "execution_count": 136,
   "metadata": {},
   "outputs": [
    {
     "name": "stdout",
     "output_type": "stream",
     "text": [
      "['hello', 'world', 'this', 'is', 'python']\n",
      "[5, 4, 3, 2, 1]\n"
     ]
    }
   ],
   "source": [
    "lst = \"hello world this is python\"      #it splits the string into seperate elements depending on parameter given\n",
    "lst2 = lst.split()\n",
    "print(lst2)\n",
    "\n",
    "num = [1,2,3,4,5]                       #reverses the list \n",
    "num.reverse()\n",
    "print(num)"
   ]
  },
  {
   "cell_type": "markdown",
   "metadata": {},
   "source": [
    "Tuples"
   ]
  },
  {
   "cell_type": "code",
   "execution_count": 8,
   "metadata": {},
   "outputs": [
    {
     "name": "stdout",
     "output_type": "stream",
     "text": [
      "banana\n",
      "mango\n",
      "('cherry', 'orange', 'kiwi')\n",
      "('apple', 'banana', 'cherry', 'orange')\n",
      "('cherry', 'orange', 'kiwi', 'melon', 'mango')\n",
      "('orange', 'kiwi', 'melon')\n"
     ]
    }
   ],
   "source": [
    "thisTuple = (\"apple\", \"banana\", \"cherry\", \"orange\", \"kiwi\", \"melon\", \"mango\")\n",
    "\n",
    "#Prints the second item of the list\n",
    "print(thisTuple[1])\n",
    "\n",
    "#prints the last item\n",
    "print(thisTuple[-1])             \n",
    "\n",
    "#prints item from index 2 - 5\n",
    "print(thisTuple[2:5])            \n",
    "\n",
    "#prints items upto index 4\n",
    "print(thisTuple[:4])             \n",
    "\n",
    "#prints items from 2\n",
    "print(thisTuple[2:]) \n",
    "\n",
    "#prints items from -4 or -1\n",
    "print(thisTuple[-4:-1])"
   ]
  },
  {
   "cell_type": "code",
   "execution_count": 24,
   "metadata": {},
   "outputs": [
    {
     "name": "stdout",
     "output_type": "stream",
     "text": [
      "<class 'tuple'>\n",
      "4\n",
      "10\n",
      "1\n",
      "4\n",
      "(1, 2, 3, 4, 5, 6, 7, 8)\n"
     ]
    }
   ],
   "source": [
    "a_tuple = (1, 2, 3, 4)\n",
    "print(type(a_tuple))                                                         \n",
    "\n",
    "#prints length of the list\n",
    "print(len(a_tuple))           \n",
    "\n",
    "#return the sum of all elements in the list\n",
    "print(sum(a_tuple))          \n",
    "\n",
    "#returns the minimum value from the list \n",
    "print(min(a_tuple))\n",
    "\n",
    "#return the maximum value from the list \n",
    "print(max(a_tuple))\n",
    "\n",
    "a_tuple2 = (5, 6, 7, 8)\n",
    "\n",
    "#tuple concentation\n",
    "print(a_tuple+a_tuple2)\n",
    "\n",
    "#deletes whole tuple existence \n",
    "#tuple doesnt support deleting single element\n",
    "del a_tuple2"
   ]
  },
  {
   "cell_type": "code",
   "execution_count": 51,
   "metadata": {},
   "outputs": [
    {
     "name": "stdout",
     "output_type": "stream",
     "text": [
      "Mustang\n",
      "Ford\n",
      "dict_keys(['brand', 'model', 'year'])\n",
      "dict_keys(['brand', 'model', 'year', 'color'])\n",
      "dict_values(['Ford', 'Mustang', 1964, 'white'])\n",
      "dict_values(['Ford', 'Mustang', 2020, 'white'])\n",
      "dict_values(['Ford', 'Mustang', 2022, 'white'])\n",
      "dict_items([('brand', 'Ford'), ('model', 'Mustang'), ('year', 2022), ('color', 'white')])\n"
     ]
    }
   ],
   "source": [
    "car = {\n",
    "  \"brand\": \"Ford\",\n",
    "  \"model\": \"Mustang\",\n",
    "  \"year\": 1964\n",
    "}\n",
    "\n",
    "#to get the value of the linked key\n",
    "x = car['model']\n",
    "print(x)\n",
    "\n",
    "#to get the value by get function\n",
    "x = car.get(\"brand\")\n",
    "print(x)\n",
    "\n",
    "#to get all the keys from dictionary\n",
    "x = car.keys()\n",
    "print(x)\n",
    "\n",
    "#adding new values to the dictionary\n",
    "car[\"color\"] = \"white\"\n",
    "print(x) \n",
    "\n",
    "#to get all the values from the dictionary\n",
    "x = car.values()\n",
    "print(x)\n",
    "\n",
    "#to make changes in the existing dictionary\n",
    "car[\"year\"] = 2020\n",
    "print(x) \n",
    "\n",
    "#we can also use update function to update the values\n",
    "car.update({\"year\": 2022})\n",
    "print(x)\n",
    "\n",
    "#to return all the keys and values from the dictionary\n",
    "x = car.items()\n",
    "print(x)"
   ]
  },
  {
   "cell_type": "code",
   "execution_count": 52,
   "metadata": {},
   "outputs": [
    {
     "name": "stdout",
     "output_type": "stream",
     "text": [
      "{'brand': 'Ford', 'year': 2022, 'color': 'white'}\n",
      "{'brand': 'Ford', 'year': 2022}\n",
      "{'brand': 'Ford'}\n",
      "1\n",
      "{}\n"
     ]
    }
   ],
   "source": [
    "#removed the 2nd element from dict\n",
    "car.pop('model')\n",
    "print(car)                \n",
    "\n",
    "#removes the last element from dict\n",
    "car.popitem()\n",
    "print(car)\n",
    "\n",
    "#removes first element from dict\n",
    "del car['year']                \n",
    "print(car)\n",
    "\n",
    "#prints length of the dict\n",
    "print(len(car))           \n",
    "\n",
    "#clears all the elemets from dict\n",
    "car.clear()\n",
    "print(car)\n",
    "\n",
    "del car"
   ]
  },
  {
   "cell_type": "markdown",
   "metadata": {},
   "source": [
    "Date & Time"
   ]
  },
  {
   "cell_type": "code",
   "execution_count": 58,
   "metadata": {},
   "outputs": [
    {
     "name": "stdout",
     "output_type": "stream",
     "text": [
      "2022-07-19 13:33:11.718464\n",
      "time.struct_time(tm_year=2022, tm_mon=7, tm_mday=19, tm_hour=13, tm_min=33, tm_sec=11, tm_wday=1, tm_yday=200, tm_isdst=-1)\n"
     ]
    }
   ],
   "source": [
    "# program to illustrate timetuple()\n",
    "import datetime\n",
    "\n",
    "\n",
    "# creating object\n",
    "obj = datetime.datetime.today()\n",
    "\n",
    "# obtaining the attributes of the\n",
    "# datetime instance as a tuple\n",
    "objTimeTuple = obj.timetuple()\n",
    "\n",
    "# displaying the tuples of the object\n",
    "print(obj)\n",
    "print(objTimeTuple)"
   ]
  },
  {
   "cell_type": "code",
   "execution_count": 59,
   "metadata": {},
   "outputs": [
    {
     "name": "stdout",
     "output_type": "stream",
     "text": [
      "Year:  2022\n",
      "Month:  7\n",
      "Day:  19\n",
      "Hour:  0\n",
      "Minute:  0\n",
      "Second:  0\n",
      "Day of Week:  1\n",
      "Day of Year:  200\n",
      "Daylight Saving Time:  -1\n"
     ]
    }
   ],
   "source": [
    "import datetime\n",
    "\n",
    "\n",
    "# creating object and initializing\n",
    "# it with custom date\n",
    "birthDate = datetime.datetime(2022, 7, 19)\n",
    "\n",
    "\n",
    "# obtaining the attributes and displaying them\n",
    "print(\"Year: \", birthDate.timetuple()[0])\n",
    "print(\"Month: \", birthDate.timetuple()[1])\n",
    "print(\"Day: \", birthDate.timetuple()[2])\n",
    "print(\"Hour: \", birthDate.timetuple()[3])\n",
    "print(\"Minute: \", birthDate.timetuple()[4])\n",
    "print(\"Second: \", birthDate.timetuple()[5])\n",
    "print(\"Day of Week: \", birthDate.timetuple()[6])\n",
    "print(\"Day of Year: \", birthDate.timetuple()[7])\n",
    "print(\"Daylight Saving Time: \", birthDate.timetuple()[8])"
   ]
  },
  {
   "cell_type": "code",
   "execution_count": null,
   "metadata": {},
   "outputs": [],
   "source": [
    "from datetime import date\n",
    "\n",
    "# date object of today's date\n",
    "today = date.today()\n",
    "\n",
    "print(\"Current year:\", today.year)\n",
    "print(\"Current month:\", today.month)\n",
    "print(\"Current day:\", today.day)\n",
    "\n"
   ]
  },
  {
   "cell_type": "code",
   "execution_count": 70,
   "metadata": {},
   "outputs": [
    {
     "name": "stdout",
     "output_type": "stream",
     "text": [
      "1658220035.167924\n",
      "Current time: Tue Jul 19 14:10:35 2022\n",
      "time.struct_time(tm_year=2022, tm_mon=7, tm_mday=19, tm_hour=14, tm_min=10, tm_sec=35, tm_wday=1, tm_yday=200, tm_isdst=0)\n",
      "time.struct_time(tm_year=2022, tm_mon=7, tm_mday=19, tm_hour=8, tm_min=40, tm_sec=35, tm_wday=1, tm_yday=200, tm_isdst=0)\n",
      "Tue Jul 19 08:40:35 2022\n",
      "Start Execution : Tue Jul 19 14:10:35 2022\n",
      "Stop Execution : Tue Jul 19 14:10:39 2022\n"
     ]
    }
   ],
   "source": [
    "import time\n",
    "\n",
    "epoch = time.time()\n",
    "print(epoch)\n",
    "\n",
    "curr = time.ctime(epoch)\n",
    "print(\"Current time:\", curr)\n",
    "\n",
    "obj = time.localtime(epoch)\n",
    "print(obj)\n",
    "\n",
    "ti = time.gmtime()\n",
    "print(ti)\n",
    "\n",
    "print (time.asctime(ti))\n",
    " \n",
    "# using ctime() to show present time\n",
    "print (\"Start Execution : \",end=\"\")\n",
    "print (time.ctime())\n",
    " \n",
    "# using sleep() to hault execution\n",
    "time.sleep(4)\n",
    " \n",
    "# using ctime() to show present time\n",
    "print (\"Stop Execution : \",end=\"\")\n",
    "print (time.ctime())"
   ]
  },
  {
   "cell_type": "code",
   "execution_count": 73,
   "metadata": {},
   "outputs": [
    {
     "name": "stdout",
     "output_type": "stream",
     "text": [
      "The calendar of year 2022 is : \n",
      "                                  2022\n",
      "\n",
      "      January                   February                   March\n",
      "Mo Tu We Th Fr Sa Su      Mo Tu We Th Fr Sa Su      Mo Tu We Th Fr Sa Su\n",
      "                1  2          1  2  3  4  5  6          1  2  3  4  5  6\n",
      " 3  4  5  6  7  8  9       7  8  9 10 11 12 13       7  8  9 10 11 12 13\n",
      "10 11 12 13 14 15 16      14 15 16 17 18 19 20      14 15 16 17 18 19 20\n",
      "17 18 19 20 21 22 23      21 22 23 24 25 26 27      21 22 23 24 25 26 27\n",
      "24 25 26 27 28 29 30      28                        28 29 30 31\n",
      "31\n",
      "\n",
      "       April                      May                       June\n",
      "Mo Tu We Th Fr Sa Su      Mo Tu We Th Fr Sa Su      Mo Tu We Th Fr Sa Su\n",
      "             1  2  3                         1             1  2  3  4  5\n",
      " 4  5  6  7  8  9 10       2  3  4  5  6  7  8       6  7  8  9 10 11 12\n",
      "11 12 13 14 15 16 17       9 10 11 12 13 14 15      13 14 15 16 17 18 19\n",
      "18 19 20 21 22 23 24      16 17 18 19 20 21 22      20 21 22 23 24 25 26\n",
      "25 26 27 28 29 30         23 24 25 26 27 28 29      27 28 29 30\n",
      "                          30 31\n",
      "\n",
      "        July                     August                  September\n",
      "Mo Tu We Th Fr Sa Su      Mo Tu We Th Fr Sa Su      Mo Tu We Th Fr Sa Su\n",
      "             1  2  3       1  2  3  4  5  6  7                1  2  3  4\n",
      " 4  5  6  7  8  9 10       8  9 10 11 12 13 14       5  6  7  8  9 10 11\n",
      "11 12 13 14 15 16 17      15 16 17 18 19 20 21      12 13 14 15 16 17 18\n",
      "18 19 20 21 22 23 24      22 23 24 25 26 27 28      19 20 21 22 23 24 25\n",
      "25 26 27 28 29 30 31      29 30 31                  26 27 28 29 30\n",
      "\n",
      "      October                   November                  December\n",
      "Mo Tu We Th Fr Sa Su      Mo Tu We Th Fr Sa Su      Mo Tu We Th Fr Sa Su\n",
      "                1  2          1  2  3  4  5  6                1  2  3  4\n",
      " 3  4  5  6  7  8  9       7  8  9 10 11 12 13       5  6  7  8  9 10 11\n",
      "10 11 12 13 14 15 16      14 15 16 17 18 19 20      12 13 14 15 16 17 18\n",
      "17 18 19 20 21 22 23      21 22 23 24 25 26 27      19 20 21 22 23 24 25\n",
      "24 25 26 27 28 29 30      28 29 30                  26 27 28 29 30 31\n",
      "31\n",
      "\n"
     ]
    }
   ],
   "source": [
    "import calendar\n",
    "   \n",
    "# using calendar to print calendar of year\n",
    "# prints calendar of 2018\n",
    "print (\"The calendar of year 2022 is : \")\n",
    "print (calendar.calendar(2022, 2, 1, 6))"
   ]
  },
  {
   "cell_type": "code",
   "execution_count": 75,
   "metadata": {},
   "outputs": [
    {
     "name": "stdout",
     "output_type": "stream",
     "text": [
      "     July 2022\n",
      "Mo Tu We Th Fr Sa Su\n",
      "             1  2  3\n",
      " 4  5  6  7  8  9 10\n",
      "11 12 13 14 15 16 17\n",
      "18 19 20 21 22 23 24\n",
      "25 26 27 28 29 30 31\n",
      "\n"
     ]
    }
   ],
   "source": [
    "import calendar\n",
    "   \n",
    "yy = 2022\n",
    "mm = 7\n",
    "   \n",
    "# display the calendar\n",
    "print(calendar.month(yy, mm))"
   ]
  },
  {
   "cell_type": "code",
   "execution_count": 83,
   "metadata": {},
   "outputs": [
    {
     "name": "stdout",
     "output_type": "stream",
     "text": [
      "Values inside the function:  [10, 20, 30, [1, 2, 3, 4]]\n"
     ]
    }
   ],
   "source": [
    "def changeme( mylist ):\n",
    "    \"This changes a passed list into this function\"\n",
    "    mylist.append([1,2,3,4])\n",
    "    print(\"Values inside the function: \", mylist)\n",
    "# Now you can call changeme function\n",
    "mylist = [10,20,30]\n",
    "changeme( mylist )\n",
    "#print(\"Values outside the function: \", mylist)"
   ]
  },
  {
   "cell_type": "code",
   "execution_count": 84,
   "metadata": {},
   "outputs": [
    {
     "name": "stdout",
     "output_type": "stream",
     "text": [
      "Values inside the function:  [1, 2, 3, 4]\n",
      "Values outside the function:  [10, 20, 30]\n"
     ]
    }
   ],
   "source": [
    "def changeme( mylist ):\n",
    "    #\"This changes a passed list into this function\"\n",
    "    mylist = [1,2,3,4]# This would assig new reference in mylist\n",
    "    print(\"Values inside the function: \", mylist)\n",
    "\n",
    "# Now you can call changeme function\n",
    "mylist = [10,20,30]\n",
    "changeme( mylist )\n",
    "print(\"Values outside the function: \", mylist)"
   ]
  },
  {
   "cell_type": "code",
   "execution_count": 88,
   "metadata": {},
   "outputs": [
    {
     "data": {
      "text/plain": [
       "'hello world'"
      ]
     },
     "execution_count": 88,
     "metadata": {},
     "output_type": "execute_result"
    }
   ],
   "source": [
    "'''Required arguments are the arguments passed to a function in correct positional order. \n",
    "    Here, the number of arguments in the function call should match exactly with the function definition.'''\n",
    "\n",
    "def printme(str):\n",
    "    #\"This prints a passed string into this function\"\n",
    "    return str\n",
    "# Now you can call printme function\n",
    "printme(\"hello world\")"
   ]
  },
  {
   "cell_type": "code",
   "execution_count": 90,
   "metadata": {},
   "outputs": [
    {
     "name": "stdout",
     "output_type": "stream",
     "text": [
      "Omniwyse is working on an python\n"
     ]
    }
   ],
   "source": [
    "def team(name, project):\n",
    "    print(name, \"is working on an\", project)\n",
    "\n",
    "team(project = \"python\", name = 'Omniwyse')"
   ]
  },
  {
   "cell_type": "code",
   "execution_count": 91,
   "metadata": {},
   "outputs": [],
   "source": [
    "def student(firstname, lastname ='Mark', standard ='Fifth'):\n",
    "\n",
    "\tprint(firstname, lastname, 'studies in', standard, 'Standard')"
   ]
  },
  {
   "cell_type": "code",
   "execution_count": 94,
   "metadata": {},
   "outputs": [
    {
     "name": "stdout",
     "output_type": "stream",
     "text": [
      "giri Mark studies in Fifth Standard\n"
     ]
    }
   ],
   "source": [
    "student('giri')"
   ]
  },
  {
   "cell_type": "code",
   "execution_count": 96,
   "metadata": {},
   "outputs": [
    {
     "name": "stdout",
     "output_type": "stream",
     "text": [
      "Output is: \n",
      "10\n",
      "Output is: \n",
      "70\n",
      "60\n",
      "50\n"
     ]
    }
   ],
   "source": [
    "def printinfo( arg1, *vartuple ):\n",
    "    #\"This prints a variable passed arguments\"\n",
    "    print(\"Output is: \")\n",
    "    print(arg1)\n",
    "    for var in vartuple:\n",
    "        print(var)\n",
    "# Now you can call printinfo function\n",
    "printinfo( 10 )\n",
    "printinfo( 70, 60, 50 )"
   ]
  },
  {
   "cell_type": "code",
   "execution_count": 98,
   "metadata": {},
   "outputs": [
    {
     "name": "stdout",
     "output_type": "stream",
     "text": [
      "12\n",
      "6\n"
     ]
    }
   ],
   "source": [
    "def myfunc(n):\n",
    "  return lambda a : a * n\n",
    "\n",
    "mydoubler = myfunc(2) #n value\n",
    "mytripler = myfunc(3)\n",
    "\n",
    "print(mydoubler(6)) #a value\n",
    "print(mytripler(2))"
   ]
  },
  {
   "cell_type": "code",
   "execution_count": 100,
   "metadata": {},
   "outputs": [
    {
     "name": "stdout",
     "output_type": "stream",
     "text": [
      "Inside Function: local variable\n"
     ]
    }
   ],
   "source": [
    "def f():\n",
    "\t# local variable\n",
    "\ts = \"local variable\"\n",
    "\tprint(\"Inside Function:\", s)\n",
    "\n",
    "# Driver code\n",
    "f()"
   ]
  },
  {
   "cell_type": "code",
   "execution_count": 101,
   "metadata": {},
   "outputs": [
    {
     "name": "stdout",
     "output_type": "stream",
     "text": [
      "Inside Function: Global variable\n",
      "Global variable\n"
     ]
    }
   ],
   "source": [
    "def f():\n",
    "\t\n",
    "\t# Global variable\n",
    "\ts = \"Global variable\"\n",
    "\tprint(\"Inside Function:\", s)\n",
    "\n",
    "# Driver code\n",
    "s = 'Global variable'\n",
    "f()\n",
    "print(s)"
   ]
  },
  {
   "cell_type": "code",
   "execution_count": 111,
   "metadata": {},
   "outputs": [
    {
     "name": "stdout",
     "output_type": "stream",
     "text": [
      "2000\n",
      "2001\n"
     ]
    }
   ],
   "source": [
    "Money = 2000\n",
    "def AddMoney():\n",
    "    global Money\n",
    "    Money = Money + 1\n",
    "print(Money)\n",
    "AddMoney()\n",
    "print(Money)"
   ]
  },
  {
   "cell_type": "markdown",
   "metadata": {},
   "source": [
    "Files and I/O"
   ]
  },
  {
   "cell_type": "code",
   "execution_count": 114,
   "metadata": {},
   "outputs": [
    {
     "name": "stdout",
     "output_type": "stream",
     "text": [
      "spider\n"
     ]
    }
   ],
   "source": [
    "name = input(\"Enter a name: \")\n",
    "print(name)"
   ]
  },
  {
   "cell_type": "code",
   "execution_count": 151,
   "metadata": {},
   "outputs": [
    {
     "name": "stdout",
     "output_type": "stream",
     "text": [
      "Name of the file:  foo.txt\n",
      "Closed or not :  False\n",
      "Opening mode :  r+\n",
      "Python is \n",
      "55\n",
      "0\n"
     ]
    }
   ],
   "source": [
    "#opens the existing file else creates new file\n",
    "fo = open(\"foo.txt\", \"r+\")\n",
    "\n",
    "#prints name of the file\n",
    "print(\"Name of the file: \", fo.name)\n",
    "\n",
    "#prints if the file is opened or closed\n",
    "print(\"Closed or not : \", fo.closed)\n",
    "\n",
    "#prints the mode of the file\n",
    "print(\"Opening mode : \", fo.mode)\n",
    "\n",
    "#writes the text to the file\n",
    "fo.write( \"Python is a great language.\\nYeah its great!!\\n\")\n",
    "\n",
    "#reads the file up to the given bytes\n",
    "str = fo.read(10)\n",
    "print(str)\n",
    "\n",
    "#tells the position of the pointer from where the text starts\n",
    "position = fo.tell()\n",
    "print(position)\n",
    "\n",
    "#to start the pointer from \n",
    "position = fo.seek(0, 0)\n",
    "print(position)\n",
    "\n",
    "#closes the file \n",
    "fo.close()"
   ]
  },
  {
   "cell_type": "code",
   "execution_count": 152,
   "metadata": {},
   "outputs": [],
   "source": [
    "import os\n",
    "\n",
    "# Rename a file from test1.txt to test2.txt\n",
    "os.rename( \"foo.txt\", \"test2.txt\" )"
   ]
  },
  {
   "cell_type": "code",
   "execution_count": 153,
   "metadata": {},
   "outputs": [
    {
     "data": {
      "text/plain": [
       "'/Users/giriprakash/Downloads/practice'"
      ]
     },
     "execution_count": 153,
     "metadata": {},
     "output_type": "execute_result"
    }
   ],
   "source": [
    "#makes the directory\n",
    "os.mkdir(\"test\")\n",
    "\n",
    "#changes the position of the directory\n",
    "'''os.chdir(\"/home/newdir\")'''\n",
    "\n",
    "#gets the current working directory\n",
    "os.getcwd()\n",
    "\n",
    "#removes the directory\n",
    "#os.rmdir( \"/tmp/test\"  )"
   ]
  },
  {
   "cell_type": "markdown",
   "metadata": {},
   "source": [
    "Exception Handling"
   ]
  },
  {
   "cell_type": "code",
   "execution_count": 155,
   "metadata": {},
   "outputs": [
    {
     "name": "stdout",
     "output_type": "stream",
     "text": [
      "32.0\n",
      "451\n"
     ]
    },
    {
     "ename": "AssertionError",
     "evalue": "Colder than absolute zero!",
     "output_type": "error",
     "traceback": [
      "\u001b[0;31m---------------------------------------------------------------------------\u001b[0m",
      "\u001b[0;31mAssertionError\u001b[0m                            Traceback (most recent call last)",
      "\u001b[1;32m/Users/giriprakash/Downloads/practice/python_examples.ipynb Cell 73\u001b[0m in \u001b[0;36m<cell line: 8>\u001b[0;34m()\u001b[0m\n\u001b[1;32m      <a href='vscode-notebook-cell:/Users/giriprakash/Downloads/practice/python_examples.ipynb#ch0000076?line=5'>6</a>\u001b[0m \u001b[39mprint\u001b[39m(KelvinToFahrenheit(\u001b[39m273\u001b[39m))\n\u001b[1;32m      <a href='vscode-notebook-cell:/Users/giriprakash/Downloads/practice/python_examples.ipynb#ch0000076?line=6'>7</a>\u001b[0m \u001b[39mprint\u001b[39m(\u001b[39mint\u001b[39m(KelvinToFahrenheit(\u001b[39m505.78\u001b[39m)))\n\u001b[0;32m----> <a href='vscode-notebook-cell:/Users/giriprakash/Downloads/practice/python_examples.ipynb#ch0000076?line=7'>8</a>\u001b[0m \u001b[39mprint\u001b[39m(KelvinToFahrenheit(\u001b[39m-\u001b[39;49m\u001b[39m5\u001b[39;49m))\n",
      "\u001b[1;32m/Users/giriprakash/Downloads/practice/python_examples.ipynb Cell 73\u001b[0m in \u001b[0;36mKelvinToFahrenheit\u001b[0;34m(Temperature)\u001b[0m\n\u001b[1;32m      <a href='vscode-notebook-cell:/Users/giriprakash/Downloads/practice/python_examples.ipynb#ch0000076?line=1'>2</a>\u001b[0m \u001b[39mdef\u001b[39;00m \u001b[39mKelvinToFahrenheit\u001b[39m(Temperature):\n\u001b[0;32m----> <a href='vscode-notebook-cell:/Users/giriprakash/Downloads/practice/python_examples.ipynb#ch0000076?line=2'>3</a>\u001b[0m    \u001b[39massert\u001b[39;00m (Temperature \u001b[39m>\u001b[39m\u001b[39m=\u001b[39m \u001b[39m0\u001b[39m),\u001b[39m\"\u001b[39m\u001b[39mColder than absolute zero!\u001b[39m\u001b[39m\"\u001b[39m\n\u001b[1;32m      <a href='vscode-notebook-cell:/Users/giriprakash/Downloads/practice/python_examples.ipynb#ch0000076?line=3'>4</a>\u001b[0m    \u001b[39mreturn\u001b[39;00m ((Temperature\u001b[39m-\u001b[39m\u001b[39m273\u001b[39m)\u001b[39m*\u001b[39m\u001b[39m1.8\u001b[39m)\u001b[39m+\u001b[39m\u001b[39m32\u001b[39m\n",
      "\u001b[0;31mAssertionError\u001b[0m: Colder than absolute zero!"
     ]
    }
   ],
   "source": [
    "#assertion error\n",
    "def KelvinToFahrenheit(Temperature):\n",
    "   assert (Temperature >= 0),\"Colder than absolute zero!\"\n",
    "   return ((Temperature-273)*1.8)+32\n",
    "\n",
    "print(KelvinToFahrenheit(273))\n",
    "print(int(KelvinToFahrenheit(505.78)))\n",
    "print(KelvinToFahrenheit(-5))"
   ]
  },
  {
   "cell_type": "code",
   "execution_count": 157,
   "metadata": {},
   "outputs": [
    {
     "ename": "NameError",
     "evalue": "name 'e' is not defined",
     "output_type": "error",
     "traceback": [
      "\u001b[0;31m---------------------------------------------------------------------------\u001b[0m",
      "\u001b[0;31mNetworkerror\u001b[0m                              Traceback (most recent call last)",
      "\u001b[1;32m/Users/giriprakash/Downloads/practice/python_examples.ipynb Cell 74\u001b[0m in \u001b[0;36m<cell line: 5>\u001b[0;34m()\u001b[0m\n\u001b[1;32m      <a href='vscode-notebook-cell:/Users/giriprakash/Downloads/practice/python_examples.ipynb#ch0000077?line=4'>5</a>\u001b[0m \u001b[39mtry\u001b[39;00m:\n\u001b[0;32m----> <a href='vscode-notebook-cell:/Users/giriprakash/Downloads/practice/python_examples.ipynb#ch0000077?line=5'>6</a>\u001b[0m    \u001b[39mraise\u001b[39;00m Networkerror(\u001b[39m\"\u001b[39m\u001b[39mBad hostname\u001b[39m\u001b[39m\"\u001b[39m)\n\u001b[1;32m      <a href='vscode-notebook-cell:/Users/giriprakash/Downloads/practice/python_examples.ipynb#ch0000077?line=6'>7</a>\u001b[0m \u001b[39mexcept\u001b[39;00m (Networkerror,e):\n",
      "\u001b[0;31mNetworkerror\u001b[0m: ('B', 'a', 'd', ' ', 'h', 'o', 's', 't', 'n', 'a', 'm', 'e')",
      "\nDuring handling of the above exception, another exception occurred:\n",
      "\u001b[0;31mNameError\u001b[0m                                 Traceback (most recent call last)",
      "\u001b[1;32m/Users/giriprakash/Downloads/practice/python_examples.ipynb Cell 74\u001b[0m in \u001b[0;36m<cell line: 5>\u001b[0;34m()\u001b[0m\n\u001b[1;32m      <a href='vscode-notebook-cell:/Users/giriprakash/Downloads/practice/python_examples.ipynb#ch0000077?line=4'>5</a>\u001b[0m \u001b[39mtry\u001b[39;00m:\n\u001b[1;32m      <a href='vscode-notebook-cell:/Users/giriprakash/Downloads/practice/python_examples.ipynb#ch0000077?line=5'>6</a>\u001b[0m    \u001b[39mraise\u001b[39;00m Networkerror(\u001b[39m\"\u001b[39m\u001b[39mBad hostname\u001b[39m\u001b[39m\"\u001b[39m)\n\u001b[0;32m----> <a href='vscode-notebook-cell:/Users/giriprakash/Downloads/practice/python_examples.ipynb#ch0000077?line=6'>7</a>\u001b[0m \u001b[39mexcept\u001b[39;00m (Networkerror,e):\n\u001b[1;32m      <a href='vscode-notebook-cell:/Users/giriprakash/Downloads/practice/python_examples.ipynb#ch0000077?line=7'>8</a>\u001b[0m    \u001b[39mprint\u001b[39m(e\u001b[39m.\u001b[39margs)\n",
      "\u001b[0;31mNameError\u001b[0m: name 'e' is not defined"
     ]
    }
   ],
   "source": [
    "class Networkerror(RuntimeError):\n",
    "   def __init__(self, arg):\n",
    "      self.args = arg\n",
    "\n",
    "try:\n",
    "   raise Networkerror(\"Bad hostname\")\n",
    "except (Networkerror,e):\n",
    "   print(e.args)"
   ]
  },
  {
   "cell_type": "code",
   "execution_count": 158,
   "metadata": {},
   "outputs": [
    {
     "name": "stdout",
     "output_type": "stream",
     "text": [
      "The index and element from the array is 0 Python\n",
      "The index and element from the array is 1 Exceptions\n",
      "The index and element from the array is 2 try and except\n",
      "Index out of range\n"
     ]
    }
   ],
   "source": [
    "# Python code to catch an exception and handle it using try and except code blocks  \n",
    "   \n",
    "a = [\"Python\", \"Exceptions\", \"try and except\"]  \n",
    "try:  \n",
    "    #looping through the elements of the array a, choosing a range that goes beyond the length of the array  \n",
    "     for i in range( 4 ):  \n",
    "        print( \"The index and element from the array is\", i, a[i] )  \n",
    "#if an error occurs in the try block, then except block will be executed by the Python interpreter       \n",
    "except:  \n",
    "    print (\"Index out of range\")  "
   ]
  },
  {
   "cell_type": "code",
   "execution_count": 159,
   "metadata": {},
   "outputs": [
    {
     "ename": "Exception",
     "evalue": "Length of the given list must be less than or equal to 3 but is 4",
     "output_type": "error",
     "traceback": [
      "\u001b[0;31m---------------------------------------------------------------------------\u001b[0m",
      "\u001b[0;31mException\u001b[0m                                 Traceback (most recent call last)",
      "\u001b[1;32m/Users/giriprakash/Downloads/practice/python_examples.ipynb Cell 76\u001b[0m in \u001b[0;36m<cell line: 2>\u001b[0;34m()\u001b[0m\n\u001b[1;32m      <a href='vscode-notebook-cell:/Users/giriprakash/Downloads/practice/python_examples.ipynb#ch0000081?line=0'>1</a>\u001b[0m num \u001b[39m=\u001b[39m [\u001b[39m3\u001b[39m, \u001b[39m4\u001b[39m, \u001b[39m5\u001b[39m, \u001b[39m7\u001b[39m]  \n\u001b[1;32m      <a href='vscode-notebook-cell:/Users/giriprakash/Downloads/practice/python_examples.ipynb#ch0000081?line=1'>2</a>\u001b[0m \u001b[39mif\u001b[39;00m \u001b[39mlen\u001b[39m(num) \u001b[39m>\u001b[39m \u001b[39m3\u001b[39m:  \n\u001b[0;32m----> <a href='vscode-notebook-cell:/Users/giriprakash/Downloads/practice/python_examples.ipynb#ch0000081?line=2'>3</a>\u001b[0m     \u001b[39mraise\u001b[39;00m \u001b[39mException\u001b[39;00m( \u001b[39mf\u001b[39m\u001b[39m\"\u001b[39m\u001b[39mLength of the given list must be less than or equal to 3 but is \u001b[39m\u001b[39m{\u001b[39;00m\u001b[39mlen\u001b[39m(num)\u001b[39m}\u001b[39;00m\u001b[39m\"\u001b[39m )\n",
      "\u001b[0;31mException\u001b[0m: Length of the given list must be less than or equal to 3 but is 4"
     ]
    }
   ],
   "source": [
    "num = [3, 4, 5, 7]  \n",
    "if len(num) > 3:  \n",
    "    raise Exception( f\"Length of the given list must be less than or equal to 3 but is {len(num)}\" ) "
   ]
  },
  {
   "cell_type": "code",
   "execution_count": 160,
   "metadata": {},
   "outputs": [
    {
     "name": "stdout",
     "output_type": "stream",
     "text": [
      "0.25\n",
      "We cannot divide by zero\n"
     ]
    }
   ],
   "source": [
    "def reciprocal( num1 ):  \n",
    "    try:  \n",
    "        reci = 1 / num1  \n",
    "    except ZeroDivisionError:  \n",
    "        print( \"We cannot divide by zero\" )  \n",
    "    else:  \n",
    "        print ( reci )  \n",
    "# Calling the function and passing values  \n",
    "reciprocal( 4 )  \n",
    "reciprocal( 0 )  "
   ]
  },
  {
   "cell_type": "code",
   "execution_count": 161,
   "metadata": {},
   "outputs": [
    {
     "name": "stdout",
     "output_type": "stream",
     "text": [
      "Atepting to divide by zero\n",
      "This is code of finally clause\n"
     ]
    }
   ],
   "source": [
    "try:  \n",
    "    div = 4 // 0    \n",
    "    print( div )  \n",
    "# this block will handle the exception raised  \n",
    "except ZeroDivisionError:  \n",
    "    print( \"Atepting to divide by zero\" )  \n",
    "# this will always be executed no matter exception is raised or not  \n",
    "finally:  \n",
    "    print( 'This is code of finally clause' )  "
   ]
  },
  {
   "cell_type": "code",
   "execution_count": 168,
   "metadata": {},
   "outputs": [
    {
     "ename": "TypeError",
     "evalue": "catching classes that do not inherit from BaseException is not allowed",
     "output_type": "error",
     "traceback": [
      "\u001b[0;31m---------------------------------------------------------------------------\u001b[0m",
      "\u001b[0;31mEmptyError\u001b[0m                                Traceback (most recent call last)",
      "\u001b[1;32m/Users/giriprakash/Downloads/practice/python_examples.ipynb Cell 79\u001b[0m in \u001b[0;36m<cell line: 7>\u001b[0;34m()\u001b[0m\n\u001b[1;32m      <a href='vscode-notebook-cell:/Users/giriprakash/Downloads/practice/python_examples.ipynb#ch0000084?line=6'>7</a>\u001b[0m \u001b[39mtry\u001b[39;00m:  \n\u001b[0;32m----> <a href='vscode-notebook-cell:/Users/giriprakash/Downloads/practice/python_examples.ipynb#ch0000084?line=7'>8</a>\u001b[0m     \u001b[39mraise\u001b[39;00m EmptyError( \u001b[39m\"\u001b[39m\u001b[39mThe variable is empty\u001b[39m\u001b[39m\"\u001b[39m )  \n\u001b[1;32m      <a href='vscode-notebook-cell:/Users/giriprakash/Downloads/practice/python_examples.ipynb#ch0000084?line=8'>9</a>\u001b[0m \u001b[39mexcept\u001b[39;00m (EmptyError, var):  \n",
      "\u001b[0;31mEmptyError\u001b[0m: The variable is empty",
      "\nDuring handling of the above exception, another exception occurred:\n",
      "\u001b[0;31mTypeError\u001b[0m                                 Traceback (most recent call last)",
      "\u001b[1;32m/Users/giriprakash/Downloads/practice/python_examples.ipynb Cell 79\u001b[0m in \u001b[0;36m<cell line: 7>\u001b[0;34m()\u001b[0m\n\u001b[1;32m      <a href='vscode-notebook-cell:/Users/giriprakash/Downloads/practice/python_examples.ipynb#ch0000084?line=6'>7</a>\u001b[0m \u001b[39mtry\u001b[39;00m:  \n\u001b[1;32m      <a href='vscode-notebook-cell:/Users/giriprakash/Downloads/practice/python_examples.ipynb#ch0000084?line=7'>8</a>\u001b[0m     \u001b[39mraise\u001b[39;00m EmptyError( \u001b[39m\"\u001b[39m\u001b[39mThe variable is empty\u001b[39m\u001b[39m\"\u001b[39m )  \n\u001b[0;32m----> <a href='vscode-notebook-cell:/Users/giriprakash/Downloads/practice/python_examples.ipynb#ch0000084?line=8'>9</a>\u001b[0m \u001b[39mexcept\u001b[39;00m (EmptyError, var):  \n\u001b[1;32m     <a href='vscode-notebook-cell:/Users/giriprakash/Downloads/practice/python_examples.ipynb#ch0000084?line=9'>10</a>\u001b[0m     \u001b[39mprint\u001b[39m( var\u001b[39m.\u001b[39marguments )\n",
      "\u001b[0;31mTypeError\u001b[0m: catching classes that do not inherit from BaseException is not allowed"
     ]
    }
   ],
   "source": [
    "class EmptyError( RuntimeError ):  \n",
    "   def __init__(self, argument):  \n",
    "      self.arguments = argument  \n",
    "    #'''Once the preceding class has been created, the following is how to raise an exception:  \n",
    "        #Code'''\n",
    "var = \" \"  \n",
    "try:  \n",
    "    raise EmptyError( \"The variable is empty\" )  \n",
    "except (EmptyError, var):  \n",
    "    print( var.arguments ) "
   ]
  },
  {
   "cell_type": "code",
   "execution_count": 169,
   "metadata": {},
   "outputs": [
    {
     "name": "stdout",
     "output_type": "stream",
     "text": [
      "mammal\n",
      "I'm a mammal\n",
      "I'm a dog\n"
     ]
    }
   ],
   "source": [
    "# Python3 program to\n",
    "# demonstrate instantiating\n",
    "# a class\n",
    "\n",
    "\n",
    "class Dog:\n",
    "\n",
    "\t# A simple class\n",
    "\t# attribute\n",
    "\tattr1 = \"mammal\"\n",
    "\tattr2 = \"dog\"\n",
    "\n",
    "\t# A sample method\n",
    "\tdef fun(self):\n",
    "\t\tprint(\"I'm a\", self.attr1)\n",
    "\t\tprint(\"I'm a\", self.attr2)\n",
    "\n",
    "\n",
    "# Driver code\n",
    "# Object instantiation\n",
    "Rodger = Dog()\n",
    "\n",
    "# Accessing class attributes\n",
    "# and method through objects\n",
    "print(Rodger.attr1)\n",
    "Rodger.fun()"
   ]
  },
  {
   "cell_type": "code",
   "execution_count": 170,
   "metadata": {},
   "outputs": [
    {
     "name": "stdout",
     "output_type": "stream",
     "text": [
      "Hello, my name is giri\n"
     ]
    }
   ],
   "source": [
    "class Person:\n",
    " \n",
    "    # init method or constructor\n",
    "    def __init__(self, name):\n",
    "        self.name = name\n",
    " \n",
    "    # Sample Method\n",
    "    def say_hi(self):\n",
    "        print('Hello, my name is', self.name)\n",
    " \n",
    " \n",
    "p = Person('giri')\n",
    "p.say_hi()"
   ]
  },
  {
   "cell_type": "code",
   "execution_count": 171,
   "metadata": {},
   "outputs": [
    {
     "name": "stdout",
     "output_type": "stream",
     "text": [
      "brown\n"
     ]
    }
   ],
   "source": [
    "# Python3 program to show that we can create\n",
    "# instance variables inside methods\n",
    "\n",
    "# Class for Dog\n",
    "\n",
    "\n",
    "class Dog:\n",
    "\n",
    "\t# Class Variable\n",
    "\tanimal = 'dog'\n",
    "\n",
    "\t# The init method or constructor\n",
    "\tdef __init__(self, breed):\n",
    "\n",
    "\t\t# Instance Variable\n",
    "\t\tself.breed = breed\n",
    "\n",
    "\t# Adds an instance variable\n",
    "\tdef setColor(self, color):\n",
    "\t\tself.color = color\n",
    "\n",
    "\t# Retrieves instance variable\n",
    "\tdef getColor(self):\n",
    "\t\treturn self.color\n",
    "\n",
    "\n",
    "# Driver Code\n",
    "Rodger = Dog(\"pug\")\n",
    "Rodger.setColor(\"brown\")\n",
    "print(Rodger.getColor())"
   ]
  },
  {
   "cell_type": "code",
   "execution_count": 172,
   "metadata": {},
   "outputs": [
    {
     "name": "stdout",
     "output_type": "stream",
     "text": [
      "Omniwyse tech\n"
     ]
    }
   ],
   "source": [
    "class Omniwyse:\n",
    "\n",
    "\t# default constructor\n",
    "\tdef __init__(self):\n",
    "\t\tself.geek = \"Omniwyse tech\"\n",
    "\n",
    "\t# a method for printing data members\n",
    "\tdef print_Geek(self):\n",
    "\t\tprint(self.geek)\n",
    "\n",
    "\n",
    "# creating object of the class\n",
    "obj = Omniwyse()\n",
    "\n",
    "# calling the instance method using the object obj\n",
    "obj.print_Geek()"
   ]
  },
  {
   "cell_type": "code",
   "execution_count": 174,
   "metadata": {},
   "outputs": [
    {
     "name": "stdout",
     "output_type": "stream",
     "text": [
      "Geek1 23 Noida\n"
     ]
    }
   ],
   "source": [
    "# A Python program to demonstrate inheritance\n",
    "\n",
    "# Base or Super class. Note object in bracket.\n",
    "# (Generally, object is made ancestor of all classes)\n",
    "# In Python 3.x \"class Person\" is\n",
    "# equivalent to \"class Person(object)\"\n",
    "\n",
    "\n",
    "class Base(object):\n",
    "\n",
    "\t# Constructor\n",
    "\tdef __init__(self, name):\n",
    "\t\tself.name = name\n",
    "\n",
    "\t# To get name\n",
    "\tdef getName(self):\n",
    "\t\treturn self.name\n",
    "\n",
    "\n",
    "# Inherited or Sub class (Note Person in bracket)\n",
    "class Child(Base):\n",
    "\n",
    "\t# Constructor\n",
    "\tdef __init__(self, name, age):\n",
    "\t\tBase.__init__(self, name)\n",
    "\t\tself.age = age\n",
    "\n",
    "\t# To get name\n",
    "\tdef getAge(self):\n",
    "\t\treturn self.age\n",
    "\n",
    "# Inherited or Sub class (Note Person in bracket)\n",
    "\n",
    "\n",
    "class GrandChild(Child):\n",
    "\n",
    "\t# Constructor\n",
    "\tdef __init__(self, name, age, address):\n",
    "\t\tChild.__init__(self, name, age)\n",
    "\t\tself.address = address\n",
    "\n",
    "\t# To get address\n",
    "\tdef getAddress(self):\n",
    "\t\treturn self.address\n",
    "\n",
    "\n",
    "# Driver code\n",
    "g = GrandChild(\"Geek1\", 23, \"Noida\")\n",
    "print(g.getName(), g.getAge(), g.getAddress())"
   ]
  },
  {
   "cell_type": "code",
   "execution_count": 175,
   "metadata": {},
   "outputs": [
    {
     "name": "stdout",
     "output_type": "stream",
     "text": [
      "Base1\n",
      "Base2\n",
      "Derived\n",
      "Geek1 Geek2\n"
     ]
    }
   ],
   "source": [
    "# Python example to show the working of multiple\n",
    "# inheritance\n",
    "\n",
    "\n",
    "class Base1(object):\n",
    "\tdef __init__(self):\n",
    "\t\tself.str1 = \"Geek1\"\n",
    "\t\tprint(\"Base1\")\n",
    "\n",
    "\n",
    "class Base2(object):\n",
    "\tdef __init__(self):\n",
    "\t\tself.str2 = \"Geek2\"\n",
    "\t\tprint(\"Base2\")\n",
    "\n",
    "\n",
    "class Derived(Base1, Base2):\n",
    "\tdef __init__(self):\n",
    "\n",
    "\t\t# Calling constructors of Base1\n",
    "\t\t# and Base2 classes\n",
    "\t\tBase1.__init__(self)\n",
    "\t\tBase2.__init__(self)\n",
    "\t\tprint(\"Derived\")\n",
    "\n",
    "\tdef printStrs(self):\n",
    "\t\tprint(self.str1, self.str2)\n",
    "\n",
    "\n",
    "ob = Derived()\n",
    "ob.printStrs()"
   ]
  },
  {
   "cell_type": "code",
   "execution_count": 176,
   "metadata": {},
   "outputs": [
    {
     "name": "stdout",
     "output_type": "stream",
     "text": [
      "Rahul\n",
      "886012\n"
     ]
    }
   ],
   "source": [
    "# Python code to demonstrate how parent constructors\n",
    "# are called.\n",
    "\n",
    "# parent class\n",
    "class Person(object):\n",
    "\n",
    "\t# __init__ is known as the constructor\n",
    "\tdef __init__(self, name, idnumber):\n",
    "\t\tself.name = name\n",
    "\t\tself.idnumber = idnumber\n",
    "\n",
    "\tdef display(self):\n",
    "\t\tprint(self.name)\n",
    "\t\tprint(self.idnumber)\n",
    "\n",
    "# child class\n",
    "\n",
    "\n",
    "class Employee(Person):\n",
    "\tdef __init__(self, name, idnumber, salary, post):\n",
    "\t\tself.salary = salary\n",
    "\t\tself.post = post\n",
    "\n",
    "\t\t# invoking the __init__ of the parent class\n",
    "\t\tPerson.__init__(self, name, idnumber)\n",
    "\n",
    "\n",
    "# creation of an object variable or an instance\n",
    "a = Employee('Rahul', 886012, 200000, \"Intern\")\n",
    "\n",
    "# calling a function of the class Person using its instance\n",
    "a.display()"
   ]
  },
  {
   "cell_type": "code",
   "execution_count": 177,
   "metadata": {},
   "outputs": [
    {
     "name": "stdout",
     "output_type": "stream",
     "text": [
      "21\n",
      "21\n"
     ]
    }
   ],
   "source": [
    "# Python program showing a use\n",
    "# of get() and set() method in\n",
    "# normal function\n",
    "\n",
    "class Geek:\n",
    "\tdef __init__(self, age = 0):\n",
    "\t\tself._age = age\n",
    "\t\n",
    "\t# getter method\n",
    "\tdef get_age(self):\n",
    "\t\treturn self._age\n",
    "\t\n",
    "\t# setter method\n",
    "\tdef set_age(self, x):\n",
    "\t\tself._age = x\n",
    "\n",
    "raj = Geek()\n",
    "\n",
    "# setting the age using setter\n",
    "raj.set_age(21)\n",
    "\n",
    "# retrieving age using getter\n",
    "print(raj.get_age())\n",
    "\n",
    "print(raj._age)"
   ]
  },
  {
   "cell_type": "code",
   "execution_count": 180,
   "metadata": {},
   "outputs": [
    {
     "name": "stdout",
     "output_type": "stream",
     "text": [
      "Garbage collector: collected 0 objects.\n",
      "Creating cycles...\n",
      "{1: {...}}\n",
      "{2: {...}}\n",
      "{3: {...}}\n",
      "{4: {...}}\n",
      "{5: {...}}\n",
      "{6: {...}}\n",
      "{7: {...}}\n",
      "{8: {...}}\n",
      "{9: {...}}\n",
      "{10: {...}}\n",
      "{11: {...}}\n",
      "{12: {...}}\n",
      "{13: {...}}\n",
      "{14: {...}}\n",
      "{15: {...}}\n",
      "Garbage collector: collected 15 objects.\n"
     ]
    }
   ],
   "source": [
    "import gc\n",
    "i = 0\n",
    "\n",
    "# create a cycle and on each iteration x as a dictionary\n",
    "# assigned to 1\n",
    "def create_cycle():\n",
    "\tx = { }\n",
    "\tx[i+1] = x\n",
    "\tprint(x)\n",
    "\n",
    "# lists are cleared whenever a full collection or\n",
    "# collection of the highest generation (2) is run\n",
    "collected = gc.collect() # or gc.collect(2)\n",
    "print(\"Garbage collector: collected %d objects.\" % (collected))\n",
    "\n",
    "print(\"Creating cycles...\")\n",
    "for i in range(15):\n",
    "\tcreate_cycle()\n",
    "\n",
    "collected = gc.collect()\n",
    "\n",
    "print(\"Garbage collector: collected %d objects.\" % (collected))\n",
    "\n"
   ]
  },
  {
   "cell_type": "markdown",
   "metadata": {},
   "source": [
    "Regular expressions"
   ]
  },
  {
   "cell_type": "code",
   "execution_count": 189,
   "metadata": {},
   "outputs": [
    {
     "name": "stdout",
     "output_type": "stream",
     "text": [
      "['r', 'a', 'n', 'n', 'a', 'n', 'r']\n",
      "['h', 'e', 'a', 'i', 'n', 'i', 'n', 'a', 'i', 'n', 'i', 'm', 'e', 'b', 'e', 'f', 'e']\n",
      "['T', 'h', 'e', ' ', 'i', ' ', 'i', ' ', 'S', 'p', 'i', ' ', '8', '+', ' ', 't', 'i', 'm', 'e', 's', ' ', 'b', 'e', 'f', 'o', 'e', ' ', '1', '1', ':', '4', '5', ' ', 'A', 'M']\n",
      "['1', '1']\n",
      "['8', '1', '1', '4', '5']\n",
      "['11', '45']\n",
      "['T', 'h', 'e', 'r', 'a', 'i', 'n', 'i', 'n', 'S', 'p', 'a', 'i', 'n', 't', 'i', 'm', 'e', 's', 'b', 'e', 'f', 'o', 'r', 'e', 'A', 'M']\n",
      "['+']\n",
      "The first white-space character is located in position: 3\n",
      "['The', 'rain', 'in', 'Spain', '8+', 'times', 'before', '11:45', 'AM']\n",
      "The#rain#in#Spain#8+#times#before#11:45#AM\n"
     ]
    }
   ],
   "source": [
    "import re\n",
    "\n",
    "txt = \"The rain in Spain 8+ times before 11:45 AM\"\n",
    "\n",
    "#Check if the string has any a, r, or n characters:\n",
    "x = re.findall(\"[arn]\", txt)\n",
    "print(x)\n",
    "\n",
    "#finds the characters between a-n in string\n",
    "x = re.findall(\"[a-n]\", txt)\n",
    "print(x)\n",
    "\n",
    "#finds the all excepts arn\n",
    "x = re.findall(\"[^arn]\", txt)\n",
    "print(x)\n",
    "\n",
    "#finds the specified digits\n",
    "x = re.findall(\"[0123]\", txt)\n",
    "print(x)\n",
    "\n",
    "#Checks if the string has any digits:\n",
    "x = re.findall(\"[0-9]\", txt)\n",
    "print(x)\n",
    "\n",
    "#checks if the string has digits between 00 - 59\n",
    "x = re.findall(\"[0-5][0-9]\", txt)\n",
    "print(x)\n",
    "\n",
    "#Returns a match for any character alphabetically between a and z, lower case OR upper case\n",
    "x = re.findall(\"[a-zA-Z]\", txt)\n",
    "print(x)\n",
    "\n",
    "#returns if any specified character is present\n",
    "x = re.findall(\"[+]\", txt)\n",
    "print(x)\n",
    "\n",
    "#return the space characters\n",
    "x = re.search(\"\\s\", txt)\n",
    "print(\"The first white-space character is located in position:\", x.start())\n",
    "\n",
    "#Split at each white-space character:\n",
    "x = re.split(\"\\s\", txt)\n",
    "print(x)\n",
    "\n",
    "#Replace every white-space character with the number #:\n",
    "x = re.sub(\"\\s\", \"#\", txt)\n",
    "print(x)"
   ]
  },
  {
   "cell_type": "markdown",
   "metadata": {},
   "source": [
    "Connecting to Database"
   ]
  },
  {
   "cell_type": "code",
   "execution_count": 227,
   "metadata": {},
   "outputs": [],
   "source": [
    "import os\n",
    "import mysql.connector\n",
    "\n",
    "conn = mysql.connector.connect(\n",
    "    host='127.0.0.1',\n",
    "    port=\"3306\",\n",
    "    database=\"spider\",\n",
    "    user=\"root\",\n",
    "    password=\"GiriprakasH@251\")\n",
    "\n",
    "cursor = conn.cursor()"
   ]
  },
  {
   "cell_type": "markdown",
   "metadata": {},
   "source": [
    "Executing queries"
   ]
  },
  {
   "cell_type": "code",
   "execution_count": 229,
   "metadata": {},
   "outputs": [
    {
     "name": "stdout",
     "output_type": "stream",
     "text": [
      "[(1, 'hyd', Decimal('9.234000'), Decimal('2.123000')), (2, 'den', Decimal('8.234000'), Decimal('3.123000')), (3, 'rev', Decimal('7.234000'), Decimal('4.123000')), (4, 'del', Decimal('6.234000'), Decimal('5.123000')), (5, 'kerl', Decimal('5.234000'), Decimal('6.123000'))]\n"
     ]
    }
   ],
   "source": [
    "cursor = conn.cursor()\n",
    "cursor.execute('SELECT * FROM city')\n",
    "see = cursor.fetchall()\n",
    "print(see)"
   ]
  }
 ],
 "metadata": {
  "kernelspec": {
   "display_name": "Python 3.10.5 64-bit",
   "language": "python",
   "name": "python3"
  },
  "language_info": {
   "codemirror_mode": {
    "name": "ipython",
    "version": 3
   },
   "file_extension": ".py",
   "mimetype": "text/x-python",
   "name": "python",
   "nbconvert_exporter": "python",
   "pygments_lexer": "ipython3",
   "version": "3.10.5"
  },
  "orig_nbformat": 4,
  "vscode": {
   "interpreter": {
    "hash": "aee8b7b246df8f9039afb4144a1f6fd8d2ca17a180786b69acc140d282b71a49"
   }
  }
 },
 "nbformat": 4,
 "nbformat_minor": 2
}
