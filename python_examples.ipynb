{
 "cells": [
  {
   "cell_type": "markdown",
   "metadata": {},
   "source": [
    "Basic Syntax"
   ]
  },
  {
   "cell_type": "code",
   "execution_count": null,
   "metadata": {},
   "outputs": [],
   "source": [
    "#single line comment\n",
    "\n",
    "#type\n",
    "#of\n",
    "#multi\n",
    "#line\n",
    "#comments\n",
    "\n",
    "\"\"\" type \n",
    "        multi\n",
    "            line \n",
    "                comments\n",
    "                        or  \n",
    "                            docstring\n",
    "                                    comment \"\"\""
   ]
  },
  {
   "cell_type": "code",
   "execution_count": 4,
   "metadata": {},
   "outputs": [
    {
     "name": "stdout",
     "output_type": "stream",
     "text": [
      "[1, 2, 3, 4, 5]\n"
     ]
    }
   ],
   "source": [
    "#example for multiline statements\n",
    "my_list = [1, \\\n",
    "            2, 3\\\n",
    "            ,4,5 \\\n",
    "        ]\n",
    "print(my_list)"
   ]
  },
  {
   "cell_type": "markdown",
   "metadata": {},
   "source": [
    "Variables"
   ]
  },
  {
   "cell_type": "code",
   "execution_count": 42,
   "metadata": {},
   "outputs": [
    {
     "name": "stdout",
     "output_type": "stream",
     "text": [
      "<class 'list'>\n",
      "<class 'tuple'>\n",
      "<class 'dict'>\n",
      "<class 'set'>\n"
     ]
    }
   ],
   "source": [
    "#example for list\n",
    "ex_list = ['india', 12, 1.56, ('one','two')]\n",
    "print(type(ex_list))\n",
    "\n",
    "#example for tuple\n",
    "ex_tuple=('india', 12, 1.56, ('one','two'))\n",
    "print(type(ex_tuple))\n",
    "\n",
    "#example for dictionary\n",
    "ex_dict = {'india':12, 15:1.56, 'num':('one','two')}\n",
    "print(type(ex_dict))\n",
    "\n",
    "#example for set\n",
    "ex_set = {'hello', 'how', 'are', 'are', 'hello'}\n",
    "print(type(ex_set))"
   ]
  },
  {
   "cell_type": "code",
   "execution_count": 43,
   "metadata": {},
   "outputs": [
    {
     "name": "stdout",
     "output_type": "stream",
     "text": [
      "<class 'str'>\n",
      "<class 'tuple'>\n",
      "<class 'list'>\n",
      "<class 'set'>\n"
     ]
    }
   ],
   "source": [
    "#example of type conversion\n",
    "name = 'giri'\n",
    "print(type(name))\n",
    "\n",
    "#converting string into tuple\n",
    "con_tuple = tuple(name)\n",
    "print(type(con_tuple))\n",
    "\n",
    "#converting string into list\n",
    "con_list = list(name)\n",
    "print(type(con_list))\n",
    "\n",
    "#converting string into set\n",
    "con_set = set(name)\n",
    "print(type(con_set))"
   ]
  },
  {
   "cell_type": "markdown",
   "metadata": {},
   "source": [
    "Control Structures"
   ]
  },
  {
   "cell_type": "code",
   "execution_count": 32,
   "metadata": {},
   "outputs": [
    {
     "name": "stdout",
     "output_type": "stream",
     "text": [
      "Hello to you too!\n"
     ]
    }
   ],
   "source": [
    "#example for match case\n",
    "command = 'Hello, World!' \n",
    "match command: \n",
    "    case 'Hello, World!': \n",
    "        print('Hello to you too!') \n",
    "    case 'Goodbye, World!': \n",
    "        print('See you later') \n",
    "    case other: \n",
    "        print('No match found') "
   ]
  },
  {
   "cell_type": "code",
   "execution_count": 141,
   "metadata": {},
   "outputs": [
    {
     "name": "stdout",
     "output_type": "stream",
     "text": [
      "yes\n"
     ]
    }
   ],
   "source": [
    "#example for if-else statements\n",
    "num = [1,2,3,4,5]\n",
    "if 2 in num:\n",
    "    print('yes')\n",
    "elif 6 in num:\n",
    "    print('overboard')\n",
    "else:\n",
    "    print('no')"
   ]
  },
  {
   "cell_type": "markdown",
   "metadata": {},
   "source": [
    "Loops"
   ]
  },
  {
   "cell_type": "code",
   "execution_count": 33,
   "metadata": {},
   "outputs": [
    {
     "name": "stdout",
     "output_type": "stream",
     "text": [
      "Hello world!\n",
      "Hello world!\n",
      "Hello world!\n"
     ]
    }
   ],
   "source": [
    "#example of while loop\n",
    "count = 0\n",
    "while (count < 3):\n",
    "    count = count + 1\n",
    "    print(\"Hello world!\")"
   ]
  },
  {
   "cell_type": "code",
   "execution_count": 40,
   "metadata": {},
   "outputs": [
    {
     "name": "stdout",
     "output_type": "stream",
     "text": [
      "1\n",
      "3\n"
     ]
    }
   ],
   "source": [
    "#example of for loop and loop control statements \n",
    "for i in range(1,11):\n",
    "    if i%2==0:\n",
    "        continue\n",
    "    elif i%5==0:\n",
    "        break\n",
    "    else:\n",
    "        pass\n",
    "    print(i)"
   ]
  },
  {
   "cell_type": "markdown",
   "metadata": {},
   "source": [
    "Operators"
   ]
  },
  {
   "cell_type": "code",
   "execution_count": 138,
   "metadata": {},
   "outputs": [
    {
     "name": "stdout",
     "output_type": "stream",
     "text": [
      "the addition of a and b is:  30\n",
      "the subtraction of a and b is:  -10\n",
      "the multiplication of a and b is:  200\n",
      "the modulus of a and b is:  10\n",
      "the division of a and b is:  0.5\n",
      "the floor division of a and b is:  0\n"
     ]
    }
   ],
   "source": [
    "#example for arithmetic operators\n",
    "a = int(input())\n",
    "b = int(input())\n",
    "\n",
    "#addition operator\n",
    "print(\"the addition of a and b is: \", a+b)\n",
    "\n",
    "#subtraction operator\n",
    "print(\"the subtraction of a and b is: \", a-b)\n",
    "\n",
    "#multiplication operator\n",
    "print(\"the multiplication of a and b is: \", a*b)\n",
    "\n",
    "#modulus operator\n",
    "print(\"the modulus of a and b is: \", a%b)\n",
    "\n",
    "#division operator\n",
    "print(\"the division of a and b is: \", a/b)\n",
    "\n",
    "#floor division operator\n",
    "print(\"the floor division of a and b is: \", a//b)\n"
   ]
  },
  {
   "cell_type": "markdown",
   "metadata": {},
   "source": [
    "comparison operators"
   ]
  },
  {
   "cell_type": "code",
   "execution_count": 139,
   "metadata": {},
   "outputs": [
    {
     "name": "stdout",
     "output_type": "stream",
     "text": [
      "a is less than b\n"
     ]
    }
   ],
   "source": [
    "if a>b:\n",
    "    print(\"a is greater than b\")                            #example of greater than operator\n",
    "elif a>=b:    \n",
    "    print(\"a is greater than or equals to b\")               #example of greater than or equals to operator\n",
    "elif a<b:\n",
    "    print(\"a is less than b\")                               #example of less than operator\n",
    "elif a<=b:\n",
    "    print(\"a is less than or equals to b\")                  #example of less than or equals to operator\n",
    "elif a == b:\n",
    "    print(\"a is equals to b\")                               #example of equals to operator\n",
    "elif a != b:\n",
    "    print(\"a is not equals to b\")                           #example of not equals to operator"
   ]
  },
  {
   "cell_type": "markdown",
   "metadata": {},
   "source": [
    "logical operator"
   ]
  },
  {
   "cell_type": "code",
   "execution_count": 140,
   "metadata": {},
   "outputs": [
    {
     "name": "stdout",
     "output_type": "stream",
     "text": [
      "example of and operator\n"
     ]
    }
   ],
   "source": [
    "if a>5 and b >10:\n",
    "    print(\"example of and operator\")                        #example of and logical operator\n",
    "elif a<5 or b > 10:\n",
    "    print(\"example of or operator\")                         #example of or logical operator\n",
    "elif not(a>5 and b >10):\n",
    "    print(\"example of not operator\")                        #example of not logical operator"
   ]
  },
  {
   "cell_type": "markdown",
   "metadata": {},
   "source": [
    "Number type conversions"
   ]
  },
  {
   "cell_type": "code",
   "execution_count": 59,
   "metadata": {},
   "outputs": [
    {
     "name": "stdout",
     "output_type": "stream",
     "text": [
      "10\n",
      "<class 'str'>\n",
      "10.0\n",
      "<class 'float'>\n",
      "10\n",
      "<class 'int'>\n",
      "10\n",
      "<class 'int'>\n"
     ]
    }
   ],
   "source": [
    "a = 10\n",
    "type(a)\n",
    "\n",
    "#int to str conversion\n",
    "i = str(a)\n",
    "print(i)\n",
    "print(type(i))\n",
    "\n",
    "#int to float conversion\n",
    "f = float(a)\n",
    "print(f)\n",
    "print(type(f))\n",
    "\n",
    "#str to int conversion \n",
    "s = int(i)\n",
    "print(s)\n",
    "print(type(s))\n",
    "\n",
    "#float to int conversion\n",
    "n = int(f)\n",
    "print(n)\n",
    "print(type(n))"
   ]
  },
  {
   "cell_type": "markdown",
   "metadata": {},
   "source": [
    "mathematical functions"
   ]
  },
  {
   "cell_type": "code",
   "execution_count": 64,
   "metadata": {},
   "outputs": [
    {
     "name": "stdout",
     "output_type": "stream",
     "text": [
      "3.141592653589793\n",
      "6.283185307179586\n",
      "inf\n"
     ]
    }
   ],
   "source": [
    "import math\n",
    "\n",
    "#math pi function\n",
    "print(math.pi)          \n",
    "\n",
    "#math tau function\n",
    "print(math.tau)         \n",
    "\n",
    "#math inf function\n",
    "print(math.inf)         "
   ]
  },
  {
   "cell_type": "code",
   "execution_count": 66,
   "metadata": {},
   "outputs": [
    {
     "name": "stdout",
     "output_type": "stream",
     "text": [
      "The Floor and Ceiling value of 23.56 are: 24, 23\n",
      "The value of x after copying the sign from y is: -10.0\n",
      "Absolute value of -96 and 56 are: 96.0, 56.0\n",
      "Sum of the elements of the list: 42.13999999999999\n",
      "The GCD of 24 and 56 : 8\n",
      "It is not a number\n",
      "It is Infinity\n",
      "False\n",
      "True\n"
     ]
    }
   ],
   "source": [
    "import math\n",
    "\n",
    "print('The Floor and Ceiling value of 23.56 are: ' + str(math.ceil(23.56)) + ', ' + str(math.floor(23.56)))\n",
    "\n",
    "x = 10\n",
    "y = -15\n",
    "\n",
    "print('The value of x after copying the sign from y is: ' + str(math.copysign(x, y)))\n",
    "\n",
    "print('Absolute value of -96 and 56 are: ' + str(math.fabs(-96)) + ', ' + str(math.fabs(56)))\n",
    "\n",
    "my_list = [12, 4.25, 89, 3.02, -65.23, -7.2, 6.3]\n",
    "\n",
    "print('Sum of the elements of the list: ' + str(math.fsum(my_list)))\n",
    "\n",
    "print('The GCD of 24 and 56 : ' + str(math.gcd(24, 56)))\n",
    "\n",
    "x = float('nan')\n",
    "if math.isnan(x):\n",
    "    print('It is not a number')\n",
    "\n",
    "x = float('inf')\n",
    "y = 45\n",
    "\n",
    "if math.isinf(x):\n",
    "    print('It is Infinity')\n",
    "\n",
    "print(math.isfinite(x)) #x is not a finite number\n",
    "\n",
    "print(math.isfinite(y)) #y is a finite number"
   ]
  },
  {
   "cell_type": "code",
   "execution_count": 69,
   "metadata": {},
   "outputs": [
    {
     "name": "stdout",
     "output_type": "stream",
     "text": [
      "The value of 5**8: 390625.0\n",
      "Square root of 400: 20.0\n",
      "The value of 5**e: 148.4131591025766\n",
      "The value of Log(625), base 5: 4.0\n",
      "The value of Log(1024), base 2: 10.0\n",
      "The value of Log(1024), base 10: 3.010299956639812\n"
     ]
    }
   ],
   "source": [
    "import math\n",
    "\n",
    "#math power function\n",
    "print('The value of 5**8: ' + str(math.pow(5, 8)))                              \n",
    "\n",
    "#math squareroot function\n",
    "print('Square root of 400: ' + str(math.sqrt(400)))                             \n",
    "\n",
    "#math exponent function\n",
    "print('The value of 5**e: ' + str(math.exp(5)))                                 \n",
    "\n",
    "#math log function\n",
    "print('The value of Log(625), base 5: ' + str(math.log(625, 5)))                \n",
    "\n",
    "#math log2 function\n",
    "print('The value of Log(1024), base 2: ' + str(math.log2(1024)))                \n",
    "\n",
    "#math log10 function\n",
    "print('The value of Log(1024), base 10: ' + str(math.log10(1024)))              "
   ]
  },
  {
   "cell_type": "code",
   "execution_count": 70,
   "metadata": {},
   "outputs": [
    {
     "name": "stdout",
     "output_type": "stream",
     "text": [
      "The value of Sin(60 degree): 0.8660254037844386\n",
      "The value of cos(pi): -1.0\n",
      "The value of tan(90 degree): 1.633123935319537e+16\n",
      "The angle of sin(0.8660254037844386): 59.99999999999999\n"
     ]
    }
   ],
   "source": [
    "import math\n",
    "\n",
    "#math sin and radians function\n",
    "print('The value of Sin(60 degree): ' + str(math.sin(math.radians(60))))                    \n",
    "\n",
    "#math cos function\n",
    "print('The value of cos(pi): ' + str(math.cos(math.pi)))                                    \n",
    "\n",
    "#math tan function\n",
    "print('The value of tan(90 degree): ' + str(math.tan(math.pi/2)))                           \n",
    "\n",
    "#math degrees function\n",
    "print('The angle of sin(0.8660254037844386): ' + str(math.degrees(math.asin(0.8660254037844386))))  "
   ]
  },
  {
   "cell_type": "markdown",
   "metadata": {},
   "source": [
    "random numbers"
   ]
  },
  {
   "cell_type": "code",
   "execution_count": 71,
   "metadata": {},
   "outputs": [
    {
     "name": "stdout",
     "output_type": "stream",
     "text": [
      "3\n",
      "t\n"
     ]
    }
   ],
   "source": [
    "# import random\n",
    "import random\n",
    "\n",
    "# prints a random value from the list\n",
    "list1 = [1, 2, 3, 4, 5, 6]\n",
    "print(random.choice(list1))\n",
    "\n",
    "# prints a random item from the string\n",
    "string = \"striver\"\n",
    "print(random.choice(string))"
   ]
  },
  {
   "cell_type": "code",
   "execution_count": 76,
   "metadata": {},
   "outputs": [
    {
     "name": "stdout",
     "output_type": "stream",
     "text": [
      "A random number from list is : 4\n",
      "A random number from range is : 30\n"
     ]
    }
   ],
   "source": [
    "import random\n",
    " \n",
    "# using choice() to generate a random number from a\n",
    "# given list of numbers.\n",
    "print(\"A random number from list is : \", end=\"\")\n",
    "print(random.choice([1, 4, 8, 10, 3]))\n",
    " \n",
    "# using randrange() to generate in range from 20\n",
    "# to 50. The last parameter 3 is step size to skip\n",
    "# three numbers when selecting.\n",
    "print(\"A random number from range is : \", end=\"\")\n",
    "print(random.randrange(20, 50))"
   ]
  },
  {
   "cell_type": "markdown",
   "metadata": {},
   "source": [
    "substring"
   ]
  },
  {
   "cell_type": "code",
   "execution_count": 78,
   "metadata": {},
   "outputs": [
    {
     "name": "stdout",
     "output_type": "stream",
     "text": [
      "omniw\n",
      "niwy\n",
      "e\n",
      "iwyse\n",
      "mni\n",
      "onws\n"
     ]
    }
   ],
   "source": [
    "string = \"omniwyse\"\n",
    "\n",
    "#to get the first 5 characters of a string\n",
    "print(string[0:5])      \n",
    "\n",
    "#to get a substring 4 characters long, starting from the 3rd character of the string\n",
    "print(string[2:6])      \n",
    "\n",
    "#to get the last character of the string\n",
    "print(string[-1])       \n",
    "\n",
    "#to get the last 5 characters of a string\n",
    "print(string[-5:])      \n",
    "\n",
    "#to get a substring which contains all characters except the last 4 characters and the 1st character\n",
    "print(string[1:-4])     \n",
    "\n",
    "#to get every other character from a string\n",
    "print(string[::2])      "
   ]
  },
  {
   "cell_type": "markdown",
   "metadata": {},
   "source": [
    "Escape Characters"
   ]
  },
  {
   "cell_type": "code",
   "execution_count": 80,
   "metadata": {},
   "outputs": [
    {
     "name": "stdout",
     "output_type": "stream",
     "text": [
      "Hello\n",
      "World!\n",
      "It's alright.\n",
      "This will insert one \\ (backslash).\n",
      "Hello\tWorld!\n",
      "HelloWorld!\n"
     ]
    }
   ],
   "source": [
    "#it creates new line\n",
    "txt1 = \"Hello\\nWorld!\"\n",
    "print(txt1)                                                 \n",
    "\n",
    "#it escapes quote\n",
    "txt2 = 'It\\'s alright.'\n",
    "print(txt2)                                                 \n",
    "\n",
    "#it escapes backslash\n",
    "txt3 = \"This will insert one \\\\ (backslash).\"               \n",
    "print(txt3)                                                 \n",
    "\n",
    "#it adds tab\n",
    "txt4 = \"Hello\\tWorld!\"\n",
    "print(txt4)                                                 \n",
    "\n",
    "#it removes the space or backspaces\n",
    "txt5 = \"Hello \\bWorld!\"\n",
    "print(txt5)                                                 "
   ]
  },
  {
   "cell_type": "markdown",
   "metadata": {},
   "source": [
    "string special operators "
   ]
  },
  {
   "cell_type": "code",
   "execution_count": 85,
   "metadata": {},
   "outputs": [
    {
     "name": "stdout",
     "output_type": "stream",
     "text": [
      "hello world\n",
      "hellohello\n",
      "l\n",
      "True\n",
      "False\n"
     ]
    }
   ],
   "source": [
    "a  = \"hello\"\n",
    "b = \"world\"\n",
    "\n",
    "#concantetion of strings\n",
    "print(a+\" \"+b)                      \n",
    "\n",
    "#repeats the strings mentioned times\n",
    "print(a*2)                          \n",
    "\n",
    "#gives the charachter from the given index\n",
    "print(a[3])                          \n",
    "\n",
    "#returns true if the charachter exists in the string\n",
    "if \"h\" in a:\n",
    "    print(True)\n",
    "else:                               \n",
    "    print(False)\n",
    "\n",
    "#returns true if the charachter not exists in the string\n",
    "if \"o\" not in a:\n",
    "    print(True)\n",
    "else:                               \n",
    "    print(False)"
   ]
  },
  {
   "cell_type": "markdown",
   "metadata": {},
   "source": [
    "String formatting"
   ]
  },
  {
   "cell_type": "code",
   "execution_count": 87,
   "metadata": {},
   "outputs": [
    {
     "name": "stdout",
     "output_type": "stream",
     "text": [
      "The price is 49 dollars\n",
      "The price is 49.00 dollars\n",
      "I want 3 pieces of item number 567 for 49.00 dollars.\n",
      "His name is John. John is 36 years old.\n",
      "I have a Ford, it is a Mustang.\n"
     ]
    }
   ],
   "source": [
    "price = 49\n",
    "txt1 = \"The price is {} dollars\"     #formatting with placeholder\n",
    "txt2 = \"The price is {:.2f} dollars\" #formatting with 2 decimals after point\n",
    "print(txt1.format(price))\n",
    "print(txt2.format(price))\n",
    "\n",
    "\n",
    "#you can also format without the index numbers\n",
    "quantity = 3\n",
    "itemno = 567\n",
    "price = 49\n",
    "order1 = \"I want {0} pieces of item number {1} for {2:.2f} dollars.\"   #formatting the multiple strings with the index values\n",
    "print(order1.format(quantity, itemno, price))\n",
    "\n",
    "#to refer to the same value more than once, using the index number\n",
    "age = 36\n",
    "name = \"John\"\n",
    "txt = \"His name is {1}. {1} is {0} years old.\"                         \n",
    "print(txt.format(age, name))\n",
    "\n",
    "#formatting using named indexes\n",
    "cars = \"I have a {carname}, it is a {model}.\"\n",
    "print(cars.format(carname = \"Ford\", model = \"Mustang\"))                 "
   ]
  },
  {
   "cell_type": "markdown",
   "metadata": {},
   "source": [
    "Bultin string methods "
   ]
  },
  {
   "cell_type": "code",
   "execution_count": 98,
   "metadata": {},
   "outputs": [
    {
     "name": "stdout",
     "output_type": "stream",
     "text": [
      "converted to uppercase: OMNIWYSE TECHNOLOGIES\n",
      "converted to lowercase: omniwyse technologies\n",
      "converted to title case: Omniwyse Technologies\n",
      "same original text: OmniWyse TechNologies\n",
      "converted to capitalize: Omniwyse technologies\n",
      "count of substring: 2\n",
      "it ends with this character:  True\n"
     ]
    }
   ],
   "source": [
    "text = 'OmniWyse TechNologies'\n",
    "\n",
    "# upper() function to convert\n",
    "# string to upper case\n",
    "print(\"converted to uppercase:\",text.upper())\n",
    "\n",
    "# lower() function to convert\n",
    "# string to lower case\n",
    "print(\"converted to lowercase:\",text.lower())\n",
    "\n",
    "# converts the first character to\n",
    "# upper case and rest to lower case\n",
    "print(\"converted to title case:\",text.title())\n",
    "\n",
    "# original string never changes\n",
    "print(\"same original text:\", text)\n",
    "\n",
    "#only first letter is capitalized\n",
    "print(\"converted to capitalize:\", text.capitalize())\n",
    "\n",
    "#return the occuerence of substring\n",
    "print(\"count of substring:\", text.count('o'))\n",
    "\n",
    "#return true if endswith() something defined\n",
    "print('it ends with this character: ', text.endswith('gies'))\n"
   ]
  },
  {
   "cell_type": "code",
   "execution_count": 111,
   "metadata": {},
   "outputs": [
    {
     "name": "stdout",
     "output_type": "stream",
     "text": [
      "14\n",
      "11\n",
      "False\n",
      "False\n",
      "False\n",
      "False\n",
      "False\n",
      "False\n",
      "False\n",
      "True\n",
      "False\n",
      "False\n",
      "False\n",
      "pOmniWyse TechNologiesvOmniWyse TechNologiestOmniWyse TechNologies OmniWyse TechNologieslOmniWyse TechNologiestOmniWyse TechNologiesd\n",
      "omniwyse technologies\n",
      "OmniWyse TechNologies\n",
      "OmniWyse TechNiligies\n",
      "18\n",
      "True\n",
      "OmniWyse TechNologies\n",
      "oMNIwYSE tECHnOLOGIES\n"
     ]
    }
   ],
   "source": [
    "#Returns the lowest index of the substring if it is found\n",
    "print(text.find('o'))\t        \n",
    "\n",
    "#Returns the position of the first occurrence of a substring in a string\n",
    "print(text.index('c'))\t        \n",
    "\n",
    "#Checks whether all the characters in a given string is alphanumeric or not\n",
    "print(text.isalnum())\t        \n",
    "\n",
    "#Returns “True” if all characters in the string are alphabets\n",
    "print(text.isalpha())\t        \n",
    "\n",
    "#Returns true if all characters in a string are decimal\n",
    "print(text.isdecimal())\t        \n",
    "\n",
    "#Returns “True” if all characters in the string are digits\n",
    "print(text.isdigit())\t        \n",
    "\n",
    "#Check whether a string is a valid identifier or not\n",
    "print(text.isidentifier())\t    \n",
    "\n",
    "#Checks if all characters in the string are lowercase\n",
    "print(text.islower())\t        \n",
    "\n",
    "#Returns “True” if all characters in the string are numeric characters\n",
    "print(text.isnumeric())\t        \n",
    "\n",
    "#Returns “True” if all characters in the string are printable or the string is empty\n",
    "print(text.isprintable())\t    \n",
    "\n",
    "#Returns “True” if all characters in the string are whitespace characters\n",
    "print(text.isspace())\t        \n",
    "\n",
    "#Returns “True” if the string is a title cased string\n",
    "print(text.istitle())\t        \n",
    "\n",
    "#Checks if all characters in the string are uppercase\n",
    "print(text.isupper())\t        \n",
    "\n",
    "#Returns a concatenated String\n",
    "print(text.join(\"pvt ltd\"))\t    \n",
    "\n",
    "#Converts all uppercase characters in a string into lowercase\n",
    "print(text.lower())\t            \n",
    "\n",
    "#Returns the string with leading characters removed\n",
    "print(text.lstrip())\t        \n",
    "\n",
    "#Replaces all occurrences of a substring with another substring\n",
    "print(text.replace('o', 'i'))\t\n",
    "\n",
    "#Returns the highest index of the substring inside the string\n",
    "print(text.rindex('i'))\t        \n",
    "\n",
    "#Returns “True” if a string starts with the given prefix\n",
    "print(text.startswith('O'))\t    \n",
    "\n",
    "#Returns the string with both leading and trailing characters\n",
    "print(text.strip())\t            \n",
    "\n",
    "#Converts all uppercase characters to lowercase and vice versa\n",
    "print(text.swapcase())\t        \n"
   ]
  },
  {
   "cell_type": "markdown",
   "metadata": {},
   "source": [
    "Lists"
   ]
  },
  {
   "cell_type": "code",
   "execution_count": 113,
   "metadata": {},
   "outputs": [
    {
     "name": "stdout",
     "output_type": "stream",
     "text": [
      "banana\n",
      "mango\n",
      "['cherry', 'orange', 'kiwi']\n",
      "['apple', 'banana', 'cherry', 'orange']\n",
      "['cherry', 'orange', 'kiwi', 'melon', 'mango']\n",
      "['orange', 'kiwi', 'melon']\n"
     ]
    }
   ],
   "source": [
    "thislist = [\"apple\", \"banana\", \"cherry\", \"orange\", \"kiwi\", \"melon\", \"mango\"]\n",
    "\n",
    "#Prints the second item of the list\n",
    "print(thislist[1])\n",
    "\n",
    "#prints the last item\n",
    "print(thislist[-1])             \n",
    "\n",
    "#prints item from index 2 - 5\n",
    "print(thislist[2:5])            \n",
    "\n",
    "#prints items upto index 4\n",
    "print(thislist[:4])             \n",
    "\n",
    "#prints items from 2\n",
    "print(thislist[2:]) \n",
    "\n",
    "#prints items from -4 or -1\n",
    "print(thislist[-4:-1])          "
   ]
  },
  {
   "cell_type": "code",
   "execution_count": 137,
   "metadata": {},
   "outputs": [
    {
     "name": "stdout",
     "output_type": "stream",
     "text": [
      "[1, 2, 3, 4]\n",
      "[1, 2, 3, 4, 5]\n",
      "[1, 2, 3, 4, 5, 5, 6, 7]\n",
      "[1, 2, 30, 3, 4, 5, 5, 6, 7]\n",
      "[1, 2, 30, 3, 5, 5, 6, 7]\n",
      "[1, 2, 3, 5, 5, 6, 7]\n",
      "[2, 3, 5, 5, 6, 7]\n",
      "[2, 3, 5, 6, 7]\n",
      "[3, 5, 6, 7]\n",
      "4\n",
      "21\n",
      "[]\n"
     ]
    }
   ],
   "source": [
    "a_list = [1, 2, 3, 4]\n",
    "print(a_list)\n",
    "\n",
    "#adds number to the list at last position\n",
    "a_list.append(5)            \n",
    "print(a_list)\n",
    "\n",
    "#extends the list with new lists\n",
    "a_list.extend([5, 6, 7])\n",
    "print(a_list)               \n",
    "\n",
    "#inserts 30 at index 2\n",
    "a_list.insert(2, 30)\n",
    "print(a_list)               \n",
    "\n",
    "#removes 4 from the list\n",
    "a_list.remove(4)\n",
    "print(a_list)               \n",
    "\n",
    "#removed the max element from the list\n",
    "a_list.remove(max(a_list))  \n",
    "print(a_list)\n",
    "\n",
    "#removed the min element from the list\n",
    "a_list.remove(min(a_list))  \n",
    "print(a_list)\n",
    "\n",
    "#removed the 2nd element from list\n",
    "a_list.pop(2)\n",
    "print(a_list)                \n",
    "\n",
    "#removes first element from list\n",
    "del a_list[0]                \n",
    "print(a_list)\n",
    "\n",
    "#prints length of the list\n",
    "print(len(a_list))           \n",
    "\n",
    "#return the sum of all elements in the list\n",
    "print(sum(a_list))          \n",
    "\n",
    "#clears all the elemets from list\n",
    "a_list.clear()\n",
    "print(a_list)               "
   ]
  },
  {
   "cell_type": "code",
   "execution_count": 136,
   "metadata": {},
   "outputs": [
    {
     "name": "stdout",
     "output_type": "stream",
     "text": [
      "['hello', 'world', 'this', 'is', 'python']\n",
      "[5, 4, 3, 2, 1]\n"
     ]
    }
   ],
   "source": [
    "lst = \"hello world this is python\"      #it splits the string into seperate elements depending on parameter given\n",
    "lst2 = lst.split()\n",
    "print(lst2)\n",
    "\n",
    "num = [1,2,3,4,5]                       #reverses the list \n",
    "num.reverse()\n",
    "print(num)"
   ]
  }
 ],
 "metadata": {
  "kernelspec": {
   "display_name": "Python 3.10.5 64-bit",
   "language": "python",
   "name": "python3"
  },
  "language_info": {
   "codemirror_mode": {
    "name": "ipython",
    "version": 3
   },
   "file_extension": ".py",
   "mimetype": "text/x-python",
   "name": "python",
   "nbconvert_exporter": "python",
   "pygments_lexer": "ipython3",
   "version": "3.10.5"
  },
  "orig_nbformat": 4,
  "vscode": {
   "interpreter": {
    "hash": "aee8b7b246df8f9039afb4144a1f6fd8d2ca17a180786b69acc140d282b71a49"
   }
  }
 },
 "nbformat": 4,
 "nbformat_minor": 2
}
