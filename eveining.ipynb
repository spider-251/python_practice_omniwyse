{
 "cells": [
  {
   "cell_type": "code",
   "execution_count": 6,
   "metadata": {},
   "outputs": [],
   "source": [
    "import math\n",
    "x = lambda r : math.pi * (r**2) "
   ]
  },
  {
   "cell_type": "code",
   "execution_count": 7,
   "metadata": {},
   "outputs": [
    {
     "data": {
      "text/plain": [
       "12.566370614359172"
      ]
     },
     "execution_count": 7,
     "metadata": {},
     "output_type": "execute_result"
    }
   ],
   "source": [
    "x(2)"
   ]
  },
  {
   "cell_type": "code",
   "execution_count": 1,
   "metadata": {},
   "outputs": [],
   "source": [
    "import math\n",
    "\n",
    "def area(r):\n",
    "    return math.pi * (r**2)"
   ]
  },
  {
   "cell_type": "code",
   "execution_count": 2,
   "metadata": {},
   "outputs": [],
   "source": [
    "radii = [2, 5, 8.0, 25.3]"
   ]
  },
  {
   "cell_type": "code",
   "execution_count": 3,
   "metadata": {},
   "outputs": [],
   "source": [
    "areas = []\n",
    "for r in radii:\n",
    "    a = area(r)\n",
    "    areas.append(a)"
   ]
  },
  {
   "cell_type": "code",
   "execution_count": 4,
   "metadata": {},
   "outputs": [
    {
     "data": {
      "text/plain": [
       "[12.566370614359172, 78.53981633974483, 201.06192982974676, 2010.9020416362907]"
      ]
     },
     "execution_count": 4,
     "metadata": {},
     "output_type": "execute_result"
    }
   ],
   "source": [
    "areas"
   ]
  },
  {
   "cell_type": "code",
   "execution_count": 5,
   "metadata": {},
   "outputs": [
    {
     "data": {
      "text/plain": [
       "[12.566370614359172, 78.53981633974483, 201.06192982974676, 2010.9020416362907]"
      ]
     },
     "execution_count": 5,
     "metadata": {},
     "output_type": "execute_result"
    }
   ],
   "source": [
    "list(map(area, radii))"
   ]
  },
  {
   "cell_type": "code",
   "execution_count": 16,
   "metadata": {},
   "outputs": [
    {
     "name": "stdout",
     "output_type": "stream",
     "text": [
      "[2, 4, 6, 8, 10, 12, 14]\n"
     ]
    }
   ],
   "source": [
    "# Our numbers\n",
    "numbers = [i for i in range(1,16)]\n",
    "\n",
    "# Function that filters out all numbers which are odd\n",
    "def filter_odd_numbers(num):\n",
    "\n",
    "    if num % 2 == 0:\n",
    "        return True\n",
    "    else:\n",
    "        return False\n",
    "\n",
    "filtered_numbers = filter(filter_odd_numbers, numbers)\n",
    "\n",
    "print(list(filtered_numbers))\n",
    "# filtered_numbers = [2, 4, 6, 8, 10, 12, 14] "
   ]
  },
  {
   "cell_type": "code",
   "execution_count": 11,
   "metadata": {},
   "outputs": [],
   "source": [
    "numbers = [i for i in range(1,16)]"
   ]
  },
  {
   "cell_type": "code",
   "execution_count": 23,
   "metadata": {},
   "outputs": [
    {
     "name": "stdout",
     "output_type": "stream",
     "text": [
      "(1, 'a')\n",
      "(2, 'b')\n",
      "(3, 'c')\n",
      "\n",
      "another example\n",
      "\n",
      "(1, 'Bob')\n",
      "(2, 'Emily')\n",
      "(3, 'Joe')\n"
     ]
    }
   ],
   "source": [
    "from itertools import *\n",
    "\n",
    "# Easy joining of two lists into a list of tuples\n",
    "for i in zip([1, 2, 3], ['a', 'b', 'c']):\n",
    "    print(i)\n",
    "print('\\nanother example\\n')\n",
    "for i in zip(count(1), ['Bob', 'Emily', 'Joe']):\n",
    "    print(i)"
   ]
  },
  {
   "cell_type": "code",
   "execution_count": 34,
   "metadata": {},
   "outputs": [],
   "source": [
    "def check_for_drop(x):\n",
    "    print('Checking: ', x)\n",
    "    return (x > 5)"
   ]
  },
  {
   "cell_type": "code",
   "execution_count": 37,
   "metadata": {},
   "outputs": [
    {
     "name": "stdout",
     "output_type": "stream",
     "text": [
      "Checking:  2\n",
      "result: 2\n",
      "result: 4\n",
      "result: 6\n",
      "result: 8\n",
      "result: 10\n",
      "result: 12\n"
     ]
    }
   ],
   "source": [
    "for i in dropwhile(check_for_drop, [2,4,6,8,10,12]):\n",
    "    print('result:',i)"
   ]
  },
  {
   "cell_type": "code",
   "execution_count": 43,
   "metadata": {},
   "outputs": [
    {
     "ename": "NameError",
     "evalue": "name 'xrange' is not defined",
     "output_type": "error",
     "traceback": [
      "\u001b[0;31m---------------------------------------------------------------------------\u001b[0m",
      "\u001b[0;31mNameError\u001b[0m                                 Traceback (most recent call last)",
      "\u001b[1;32m/Users/giriprakash/Downloads/practice/eveining.ipynb Cell 13\u001b[0m in \u001b[0;36m<cell line: 19>\u001b[0;34m()\u001b[0m\n\u001b[1;32m     <a href='vscode-notebook-cell:/Users/giriprakash/Downloads/practice/eveining.ipynb#ch0000013?line=16'>17</a>\u001b[0m  \u001b[39m# (3) range() vs xrange()\u001b[39;00m\n\u001b[1;32m     <a href='vscode-notebook-cell:/Users/giriprakash/Downloads/practice/eveining.ipynb#ch0000013?line=17'>18</a>\u001b[0m total \u001b[39m=\u001b[39m \u001b[39msum\u001b[39m(\u001b[39mrange\u001b[39m(\u001b[39m1000\u001b[39m \u001b[39m+\u001b[39m \u001b[39m1\u001b[39m))\n\u001b[0;32m---> <a href='vscode-notebook-cell:/Users/giriprakash/Downloads/practice/eveining.ipynb#ch0000013?line=18'>19</a>\u001b[0m total \u001b[39m=\u001b[39m \u001b[39msum\u001b[39m(xrange(\u001b[39m1000\u001b[39m \u001b[39m+\u001b[39m \u001b[39m1\u001b[39m))\n",
      "\u001b[0;31mNameError\u001b[0m: name 'xrange' is not defined"
     ]
    }
   ],
   "source": [
    "# (1) Using a for loop\n",
    "numbers = list()\n",
    "\n",
    "for i in range(1000):\n",
    "    numbers.append(i+1)\n",
    "    \n",
    "total = sum(numbers)\n",
    "\n",
    "# (2) Using a generator\n",
    "def generate_numbers(n):\n",
    "     num = 0\n",
    "     while num < n:\n",
    "         yield num\n",
    "         num += 1\n",
    "total = sum(generate_numbers(1000))\n",
    " \n",
    " # (3) range() vs xrange()\n",
    "total = sum(range(1000 + 1))\n",
    "total = sum(xrange(1000 + 1))\n"
   ]
  },
  {
   "cell_type": "code",
   "execution_count": 46,
   "metadata": {},
   "outputs": [
    {
     "name": "stdout",
     "output_type": "stream",
     "text": [
      "45\n"
     ]
    }
   ],
   "source": [
    "k = sum(range(10))\n",
    "print(k)"
   ]
  },
  {
   "cell_type": "code",
   "execution_count": null,
   "metadata": {},
   "outputs": [],
   "source": []
  }
 ],
 "metadata": {
  "kernelspec": {
   "display_name": "Python 3.10.5 64-bit",
   "language": "python",
   "name": "python3"
  },
  "language_info": {
   "codemirror_mode": {
    "name": "ipython",
    "version": 3
   },
   "file_extension": ".py",
   "mimetype": "text/x-python",
   "name": "python",
   "nbconvert_exporter": "python",
   "pygments_lexer": "ipython3",
   "version": "3.10.5"
  },
  "orig_nbformat": 4,
  "vscode": {
   "interpreter": {
    "hash": "aee8b7b246df8f9039afb4144a1f6fd8d2ca17a180786b69acc140d282b71a49"
   }
  }
 },
 "nbformat": 4,
 "nbformat_minor": 2
}
